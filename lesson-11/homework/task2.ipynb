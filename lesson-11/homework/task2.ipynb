{
 "cells": [
  {
   "cell_type": "code",
   "id": "initial_id",
   "metadata": {
    "collapsed": true,
    "ExecuteTime": {
     "end_time": "2025-03-07T10:50:14.327609Z",
     "start_time": "2025-03-07T10:50:14.325875Z"
    }
   },
   "source": "import sqlite3",
   "outputs": [],
   "execution_count": 2
  },
  {
   "metadata": {
    "ExecuteTime": {
     "end_time": "2025-03-07T10:50:50.341628Z",
     "start_time": "2025-03-07T10:50:50.337845Z"
    }
   },
   "cell_type": "code",
   "source": [
    "with sqlite3.connect('library.db') as conn:\n",
    "    cursor = conn.cursor()\n",
    "    query = \"\"\"\n",
    "    CREATE TABLE IF NOT EXISTS Books(Title TEXT, Author TEXT, Year_published INT, Genre TEXT)\n",
    "    \"\"\"\n",
    "    cursor.execute(query)"
   ],
   "id": "5a7faa5b9472cb33",
   "outputs": [],
   "execution_count": 4
  },
  {
   "metadata": {
    "ExecuteTime": {
     "end_time": "2025-03-07T11:06:57.458629Z",
     "start_time": "2025-03-07T11:06:57.443359Z"
    }
   },
   "cell_type": "code",
   "source": [
    "with sqlite3.connect('library.db') as conn:\n",
    "    cursor = conn.cursor()\n",
    "    query = \"\"\"\n",
    "    INSERT INTO Books (Title, Author, Year_published, Genre) Values (?, ?, ?, ?)\n",
    "    \"\"\"\n",
    "    values = [\n",
    "        (\"To Kill a Mockingbird\", \"Harper Lee\", 1960, \"Fiction\"),\n",
    "        (\"1984\", \"George Orwell\", 1949, \"Dystopian\"),\n",
    "        (\"The Great Gatsby\", \"F. Scott Fitzgerald\", 1925, \"Classic\")\n",
    "    ]\n",
    "    cursor.executemany(query, values)"
   ],
   "id": "db817a480c77068c",
   "outputs": [],
   "execution_count": 5
  },
  {
   "metadata": {},
   "cell_type": "code",
   "outputs": [],
   "execution_count": null,
   "source": [
    "with sqlite3.connect('library.db') as conn:\n",
    "    cursor = conn.cursor()\n",
    "    query = \"\"\"\n",
    "    UPDATE Books SET Year_published = 1984 WHERE Title = '1984';\n",
    "    \"\"\"\n",
    "    cursor.execute(query)"
   ],
   "id": "cb4ddfbf58114f9c"
  },
  {
   "metadata": {
    "ExecuteTime": {
     "end_time": "2025-03-07T11:35:33.166657Z",
     "start_time": "2025-03-07T11:35:33.158061Z"
    }
   },
   "cell_type": "code",
   "source": [
    "with sqlite3.connect('library.db') as conn:\n",
    "    cursor = conn.cursor()\n",
    "    query = \"\"\"\n",
    "    SELECT Title, Author From Books WHERE Genre = 'Dystopian';\n",
    "    \"\"\"\n",
    "    data = cursor.execute(query)\n",
    "data.fetchall()"
   ],
   "id": "66f2eecdb8875bed",
   "outputs": [
    {
     "data": {
      "text/plain": [
       "[('1984', 'George Orwell')]"
      ]
     },
     "execution_count": 12,
     "metadata": {},
     "output_type": "execute_result"
    }
   ],
   "execution_count": 12
  },
  {
   "metadata": {},
   "cell_type": "code",
   "outputs": [],
   "execution_count": null,
   "source": [
    "with sqlite3.connect('library.db') as conn:\n",
    "    cursor = conn.cursor()\n",
    "    query = \"\"\"\n",
    "    DELETE FROM Books WHERE Published_year < 1950;\n",
    "    \"\"\"\n",
    "    cursor.execute(query)"
   ],
   "id": "97ca889c35855bc"
  },
  {
   "metadata": {
    "ExecuteTime": {
     "end_time": "2025-03-07T11:37:03.809135Z",
     "start_time": "2025-03-07T11:37:03.790436Z"
    }
   },
   "cell_type": "code",
   "source": [
    "with sqlite3.connect('library.db') as conn:\n",
    "    cursor = conn.cursor()\n",
    "    query = \"\"\"\n",
    "    ALTER TABLE Books ADD COLUMN Rating FLOAT;\n",
    "    UPDATE Books SET Rating = 4.8 WHERE Title = 'To Kill a Mockingbird';\n",
    "    UPDATE Books SET Rating = 4.7 WHERE Title = '1984';\n",
    "    UPDATE Books SET Rating = 4.5 WHERE Title = 'The Great Gatsby';\n",
    "    \"\"\"\n",
    "    cursor.executescript(query)"
   ],
   "id": "828b4a0a9d05758f",
   "outputs": [
    {
     "ename": "OperationalError",
     "evalue": "duplicate column name: Rating",
     "output_type": "error",
     "traceback": [
      "\u001B[0;31m---------------------------------------------------------------------------\u001B[0m",
      "\u001B[0;31mOperationalError\u001B[0m                          Traceback (most recent call last)",
      "Cell \u001B[0;32mIn[26], line 9\u001B[0m\n\u001B[1;32m      2\u001B[0m cursor \u001B[38;5;241m=\u001B[39m conn\u001B[38;5;241m.\u001B[39mcursor()\n\u001B[1;32m      3\u001B[0m query \u001B[38;5;241m=\u001B[39m \u001B[38;5;124m\"\"\"\u001B[39m\n\u001B[1;32m      4\u001B[0m \u001B[38;5;124mALTER TABLE Books ADD COLUMN Rating FLOAT;\u001B[39m\n\u001B[1;32m      5\u001B[0m \u001B[38;5;124mUPDATE Books SET Rating = 4.8 WHERE Title = \u001B[39m\u001B[38;5;124m'\u001B[39m\u001B[38;5;124mTo Kill a Mockingbird\u001B[39m\u001B[38;5;124m'\u001B[39m\u001B[38;5;124m;\u001B[39m\n\u001B[1;32m      6\u001B[0m \u001B[38;5;124mUPDATE Books SET Rating = 4.7 WHERE Title = \u001B[39m\u001B[38;5;124m'\u001B[39m\u001B[38;5;124m1984\u001B[39m\u001B[38;5;124m'\u001B[39m\u001B[38;5;124m;\u001B[39m\n\u001B[1;32m      7\u001B[0m \u001B[38;5;124mUPDATE Books SET Rating = 4.5 WHERE Title = \u001B[39m\u001B[38;5;124m'\u001B[39m\u001B[38;5;124mThe Great Gatsby\u001B[39m\u001B[38;5;124m'\u001B[39m\u001B[38;5;124m;\u001B[39m\n\u001B[1;32m      8\u001B[0m \u001B[38;5;124m\u001B[39m\u001B[38;5;124m\"\"\"\u001B[39m\n\u001B[0;32m----> 9\u001B[0m \u001B[43mcursor\u001B[49m\u001B[38;5;241;43m.\u001B[39;49m\u001B[43mexecutescript\u001B[49m\u001B[43m(\u001B[49m\u001B[43mquery\u001B[49m\u001B[43m)\u001B[49m\n",
      "\u001B[0;31mOperationalError\u001B[0m: duplicate column name: Rating"
     ]
    }
   ],
   "execution_count": 26
  },
  {
   "metadata": {
    "ExecuteTime": {
     "end_time": "2025-03-07T11:35:38.990977Z",
     "start_time": "2025-03-07T11:35:38.986904Z"
    }
   },
   "cell_type": "code",
   "source": [
    "with sqlite3.connect('library.db') as conn:\n",
    "    cursor = conn.cursor()\n",
    "    query = \"\"\"\n",
    "    SELECT * FROM Books ORDER BY Year_published DESC;\n",
    "    \"\"\"\n",
    "    data = cursor.execute(query)\n",
    "data.fetchall()"
   ],
   "id": "c0c789c2f2c01cf2",
   "outputs": [
    {
     "data": {
      "text/plain": [
       "[('To Kill a Mockingbird', 'Harper Lee', 1960, 'Fiction', 4.8),\n",
       " ('1984', 'George Orwell', 1949, 'Dystopian', 4.7),\n",
       " ('The Great Gatsby', 'F. Scott Fitzgerald', 1925, 'Classic', 4.5)]"
      ]
     },
     "execution_count": 14,
     "metadata": {},
     "output_type": "execute_result"
    }
   ],
   "execution_count": 14
  }
 ],
 "metadata": {
  "kernelspec": {
   "display_name": "Python 3",
   "language": "python",
   "name": "python3"
  },
  "language_info": {
   "codemirror_mode": {
    "name": "ipython",
    "version": 2
   },
   "file_extension": ".py",
   "mimetype": "text/x-python",
   "name": "python",
   "nbconvert_exporter": "python",
   "pygments_lexer": "ipython2",
   "version": "2.7.6"
  }
 },
 "nbformat": 4,
 "nbformat_minor": 5
}

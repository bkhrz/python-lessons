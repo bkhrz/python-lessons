{
 "cells": [
  {
   "metadata": {
    "ExecuteTime": {
     "end_time": "2025-03-07T10:11:10.936226Z",
     "start_time": "2025-03-07T10:11:10.934438Z"
    }
   },
   "cell_type": "code",
   "source": "import sqlite3",
   "id": "6215d5aae8bf066d",
   "outputs": [],
   "execution_count": 28
  },
  {
   "metadata": {
    "ExecuteTime": {
     "end_time": "2025-03-07T10:11:13.370280Z",
     "start_time": "2025-03-07T10:11:13.367315Z"
    }
   },
   "cell_type": "code",
   "source": [
    "with sqlite3.connect('roster.db') as conn:\n",
    "    cursor = conn.cursor()\n",
    "    # Create the Roster table\n",
    "    query = \"CREATE TABLE IF NOT EXISTS Roster(Name TEXT, Species TEXT, Age INTEGER)\"\n",
    "    cursor.execute(query)"
   ],
   "id": "9d611ede06573f15",
   "outputs": [],
   "execution_count": 34
  },
  {
   "metadata": {
    "ExecuteTime": {
     "end_time": "2025-03-07T10:11:36.041715Z",
     "start_time": "2025-03-07T10:11:36.037424Z"
    }
   },
   "cell_type": "code",
   "source": [
    "with sqlite3.connect(\"roster.db\") as conn:\n",
    "    cursor = conn.cursor()\n",
    "    # Insert data into the Roster table\n",
    "    query = \"\"\"\n",
    "    INSERT INTO Roster Values\n",
    "    ('Benjamin Sisko',\t'Human', 40),\n",
    "    ('Jadzia Dax', 'Trill',\t300),\n",
    "    ('Kira Nerys',\t'Bajoran',\t29);\n",
    "    \"\"\"\n",
    "    cursor.executescript(query)"
   ],
   "id": "927b2ae43b2a4148",
   "outputs": [],
   "execution_count": 42
  },
  {
   "metadata": {
    "ExecuteTime": {
     "end_time": "2025-03-07T10:11:39.947512Z",
     "start_time": "2025-03-07T10:11:39.943865Z"
    }
   },
   "cell_type": "code",
   "source": [
    "with sqlite3.connect('roster.db') as conn:\n",
    "    # Updates certain data\n",
    "    cursor = conn.cursor()\n",
    "    query = \"\"\"\n",
    "    UPDATE Roster SET Name = 'Ezri Dax' WHERE Name = 'Jadzia Dax'\n",
    "    \"\"\"\n",
    "    cursor.execute(query)\n"
   ],
   "id": "f0d8bc1aca9e1828",
   "outputs": [],
   "execution_count": 44
  },
  {
   "metadata": {
    "ExecuteTime": {
     "end_time": "2025-03-07T10:25:13.405026Z",
     "start_time": "2025-03-07T10:25:13.398449Z"
    }
   },
   "cell_type": "code",
   "source": [
    "with sqlite3.connect('roster.db') as conn:\n",
    "    # Prints the data\n",
    "    cursor = conn.cursor()\n",
    "    query = \"\"\"\n",
    "    SELECT Name, Age FROM Roster WHERE Species = 'Bajoran';\n",
    "    \"\"\"\n",
    "    data = cursor.execute(query)\n",
    "data.fetchall()"
   ],
   "id": "313356f541428643",
   "outputs": [
    {
     "data": {
      "text/plain": [
       "[('Kira Nerys', 29),\n",
       " ('Kira Nerys', 29),\n",
       " ('Kira Nerys', 29),\n",
       " ('Kira Nerys', 29),\n",
       " ('Kira Nerys', 29),\n",
       " ('Kira Nerys', 29),\n",
       " ('Kira Nerys', 29),\n",
       " ('Kira Nerys', 29)]"
      ]
     },
     "execution_count": 48,
     "metadata": {},
     "output_type": "execute_result"
    }
   ],
   "execution_count": 48
  },
  {
   "metadata": {
    "ExecuteTime": {
     "end_time": "2025-03-07T10:34:53.796164Z",
     "start_time": "2025-03-07T10:34:53.792870Z"
    }
   },
   "cell_type": "code",
   "source": [
    "with sqlite3.connect('roster.db') as conn:      # deletes the data\n",
    "    cursor = conn.cursor()\n",
    "    query = \"\"\"\n",
    "    DELETE FROM Roster\n",
    "    WHERE Age > 100;\n",
    "    \"\"\"\n",
    "    cursor.execute(query)"
   ],
   "id": "7b60f5db3f669c0f",
   "outputs": [],
   "execution_count": 52
  },
  {
   "metadata": {
    "ExecuteTime": {
     "end_time": "2025-03-07T10:38:21.071914Z",
     "start_time": "2025-03-07T10:38:21.065019Z"
    }
   },
   "cell_type": "code",
   "source": [
    "with sqlite3.connect('roster.db') as conn:\n",
    "    cursor = conn.cursor()\n",
    "    query = \"\"\"\n",
    "    ALTER TABLE Roster ADD COLUMN Rank text;\n",
    "    UPDATE Roster SET Rank = 'Captain' WHERE Name = 'Benjamin Sisko';\n",
    "    UPDATE Roster\n",
    "    SET Rank = 'Lieutenant'\n",
    "    where Name = 'Ezri Dax';\n",
    "    UPDATE Roster\n",
    "    SET Rank = 'Major'\n",
    "    where Name = 'Kira Nerys';\n",
    "    \"\"\"\n",
    "    cursor.executescript(query)"
   ],
   "id": "c8f951b744e326ba",
   "outputs": [],
   "execution_count": 62
  },
  {
   "metadata": {
    "ExecuteTime": {
     "end_time": "2025-03-07T10:42:06.879834Z",
     "start_time": "2025-03-07T10:42:06.867040Z"
    }
   },
   "cell_type": "code",
   "source": [
    "with sqlite3.connect('roster.db') as conn:\n",
    "    cursor = conn.cursor()\n",
    "    query = \"\"\"\n",
    "    SELECT * FROM Roster\n",
    "    ORDER BY Age DESC;\n",
    "    \"\"\"\n",
    "    data = cursor.execute(query)\n",
    "data.fetchall()"
   ],
   "id": "70ca8063bc64902c",
   "outputs": [
    {
     "data": {
      "text/plain": [
       "[('Benjamin Sisko', 'Human', 40, 'Captain'),\n",
       " ('Benjamin Sisko', 'Human', 40, 'Captain'),\n",
       " ('Benjamin Sisko', 'Human', 40, 'Captain'),\n",
       " ('Benjamin Sisko', 'Human', 40, 'Captain'),\n",
       " ('Benjamin Sisko', 'Human', 40, 'Captain'),\n",
       " ('Benjamin Sisko', 'Human', 40, 'Captain'),\n",
       " ('Benjamin Sisko', 'Human', 40, 'Captain'),\n",
       " ('Benjamin Sisko', 'Human', 40, 'Captain'),\n",
       " ('Kira Nerys', 'Bajoran', 29, 'Major'),\n",
       " ('Kira Nerys', 'Bajoran', 29, 'Major'),\n",
       " ('Kira Nerys', 'Bajoran', 29, 'Major'),\n",
       " ('Kira Nerys', 'Bajoran', 29, 'Major'),\n",
       " ('Kira Nerys', 'Bajoran', 29, 'Major'),\n",
       " ('Kira Nerys', 'Bajoran', 29, 'Major'),\n",
       " ('Kira Nerys', 'Bajoran', 29, 'Major'),\n",
       " ('Kira Nerys', 'Bajoran', 29, 'Major')]"
      ]
     },
     "execution_count": 63,
     "metadata": {},
     "output_type": "execute_result"
    }
   ],
   "execution_count": 63
  }
 ],
 "metadata": {
  "kernelspec": {
   "display_name": "Python 3",
   "language": "python",
   "name": "python3"
  },
  "language_info": {
   "codemirror_mode": {
    "name": "ipython",
    "version": 2
   },
   "file_extension": ".py",
   "mimetype": "text/x-python",
   "name": "python",
   "nbconvert_exporter": "python",
   "pygments_lexer": "ipython2",
   "version": "2.7.6"
  }
 },
 "nbformat": 4,
 "nbformat_minor": 5
}

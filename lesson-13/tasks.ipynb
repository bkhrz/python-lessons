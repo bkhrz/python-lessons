{
 "cells": [
  {
   "cell_type": "code",
   "id": "initial_id",
   "metadata": {
    "collapsed": true,
    "ExecuteTime": {
     "end_time": "2025-03-07T18:42:18.335679Z",
     "start_time": "2025-03-07T18:42:18.290922Z"
    }
   },
   "source": "import numpy as np",
   "outputs": [],
   "execution_count": 2
  },
  {
   "metadata": {
    "ExecuteTime": {
     "end_time": "2025-03-07T18:44:43.309199Z",
     "start_time": "2025-03-07T18:44:43.302309Z"
    }
   },
   "cell_type": "code",
   "source": [
    "vector = np.arange(10, 50)\n",
    "print(\"Vector:\", vector)"
   ],
   "id": "74505837b316a6ad",
   "outputs": [
    {
     "name": "stdout",
     "output_type": "stream",
     "text": [
      "Vector: [10 11 12 13 14 15 16 17 18 19 20 21 22 23 24 25 26 27 28 29 30 31 32 33\n",
      " 34 35 36 37 38 39 40 41 42 43 44 45 46 47 48 49]\n"
     ]
    }
   ],
   "execution_count": 3
  },
  {
   "metadata": {
    "ExecuteTime": {
     "end_time": "2025-03-07T18:45:04.267458Z",
     "start_time": "2025-03-07T18:45:04.261751Z"
    }
   },
   "cell_type": "code",
   "source": [
    "matrix_3x3 = np.arange(9).reshape(3, 3)\n",
    "print(\"3x3 Matrix:\", matrix_3x3)"
   ],
   "id": "ce6ba827d6d04e2f",
   "outputs": [
    {
     "name": "stdout",
     "output_type": "stream",
     "text": [
      "3x3 Matrix: [[0 1 2]\n",
      " [3 4 5]\n",
      " [6 7 8]]\n"
     ]
    }
   ],
   "execution_count": 5
  },
  {
   "metadata": {
    "ExecuteTime": {
     "end_time": "2025-03-07T18:45:12.012570Z",
     "start_time": "2025-03-07T18:45:12.006525Z"
    }
   },
   "cell_type": "code",
   "source": [
    "identity_matrix = np.eye(3)\n",
    "print(\"3x3 Identity Matrix:\", identity_matrix)"
   ],
   "id": "f724aded136f2b2a",
   "outputs": [
    {
     "name": "stdout",
     "output_type": "stream",
     "text": [
      "3x3 Identity Matrix: [[1. 0. 0.]\n",
      " [0. 1. 0.]\n",
      " [0. 0. 1.]]\n"
     ]
    }
   ],
   "execution_count": 6
  },
  {
   "metadata": {
    "ExecuteTime": {
     "end_time": "2025-03-07T18:45:20.636300Z",
     "start_time": "2025-03-07T18:45:20.606217Z"
    }
   },
   "cell_type": "code",
   "source": [
    "array_3x3x3 = np.random.rand(3, 3, 3)\n",
    "print(\"3x3x3 Random Array:\", array_3x3x3)"
   ],
   "id": "94ed073bb63c7135",
   "outputs": [
    {
     "name": "stdout",
     "output_type": "stream",
     "text": [
      "3x3x3 Random Array: [[[0.70332193 0.40228271 0.68172194]\n",
      "  [0.23591123 0.21137572 0.53085145]\n",
      "  [0.24552268 0.00550358 0.16560957]]\n",
      "\n",
      " [[0.54688431 0.7756625  0.79452005]\n",
      "  [0.10121794 0.31532093 0.52029959]\n",
      "  [0.86992373 0.92652147 0.16946812]]\n",
      "\n",
      " [[0.73099173 0.19486785 0.1754702 ]\n",
      "  [0.25254035 0.54482939 0.97226884]\n",
      "  [0.12597077 0.55932452 0.33663701]]]\n"
     ]
    }
   ],
   "execution_count": 7
  },
  {
   "metadata": {
    "ExecuteTime": {
     "end_time": "2025-03-07T18:45:27.554760Z",
     "start_time": "2025-03-07T18:45:27.546141Z"
    }
   },
   "cell_type": "code",
   "source": [
    "array_10x10 = np.random.rand(10, 10)\n",
    "print(\"Min Value:\", np.min(array_10x10), \"Max Value:\", np.max(array_10x10))"
   ],
   "id": "34de74e1320eed1f",
   "outputs": [
    {
     "name": "stdout",
     "output_type": "stream",
     "text": [
      "Min Value: 0.010500069174420812 Max Value: 0.9875258879399892\n"
     ]
    }
   ],
   "execution_count": 8
  },
  {
   "metadata": {
    "ExecuteTime": {
     "end_time": "2025-03-07T18:45:55.350680Z",
     "start_time": "2025-03-07T18:45:55.343945Z"
    }
   },
   "cell_type": "code",
   "source": [
    "random_vector = np.random.rand(30)\n",
    "print(\"Mean Value:\", np.mean(random_vector))"
   ],
   "id": "2e9633e15ac806fc",
   "outputs": [
    {
     "name": "stdout",
     "output_type": "stream",
     "text": [
      "\n",
      "Mean Value: 0.47800953073491254\n"
     ]
    }
   ],
   "execution_count": 9
  },
  {
   "metadata": {
    "ExecuteTime": {
     "end_time": "2025-03-07T18:46:16.546744Z",
     "start_time": "2025-03-07T18:46:16.540678Z"
    }
   },
   "cell_type": "code",
   "source": [
    "random_matrix = np.random.rand(5, 5)\n",
    "normalized_matrix = (random_matrix - np.min(random_matrix)) / (np.max(random_matrix) - np.min(random_matrix))\n",
    "print(\"Normalized 5x5 Matrix:\", normalized_matrix)"
   ],
   "id": "11313a4d22b4d77f",
   "outputs": [
    {
     "name": "stdout",
     "output_type": "stream",
     "text": [
      "Normalized 5x5 Matrix: [[0.55447528 0.55369862 0.83160361 0.76509021 0.02986799]\n",
      " [0.00824014 0.9209852  0.28497884 0.33194878 0.77715948]\n",
      " [0.28113569 0.2524034  0.04759798 0.         0.98712219]\n",
      " [0.33271107 0.28030097 0.5803054  0.89641883 0.5793984 ]\n",
      " [0.38270047 0.25987061 0.42569719 0.70222153 1.        ]]\n"
     ]
    }
   ],
   "execution_count": 10
  },
  {
   "metadata": {
    "ExecuteTime": {
     "end_time": "2025-03-07T18:46:33.844981Z",
     "start_time": "2025-03-07T18:46:33.839422Z"
    }
   },
   "cell_type": "code",
   "source": [
    "matrix_5x3 = np.random.rand(5, 3)\n",
    "matrix_3x2 = np.random.rand(3, 2)\n",
    "matrix_product = np.dot(matrix_5x3, matrix_3x2)\n",
    "print(\"Matrix Product (5x3 * 3x2):\", matrix_product)"
   ],
   "id": "c4574b04fd6627a4",
   "outputs": [
    {
     "name": "stdout",
     "output_type": "stream",
     "text": [
      "Matrix Product (5x3 * 3x2): [[0.59983372 0.40008332]\n",
      " [0.31319187 0.22393711]\n",
      " [0.18687506 0.28387166]\n",
      " [0.50979887 0.32316104]\n",
      " [0.56401488 0.46276532]]\n"
     ]
    }
   ],
   "execution_count": 11
  },
  {
   "metadata": {
    "ExecuteTime": {
     "end_time": "2025-03-07T18:46:54.269191Z",
     "start_time": "2025-03-07T18:46:54.261880Z"
    }
   },
   "cell_type": "code",
   "source": [
    "matrix_A = np.random.rand(3, 3)\n",
    "matrix_B = np.random.rand(3, 3)\n",
    "dot_product = np.dot(matrix_A, matrix_B)\n",
    "print(\"Dot Product of Two 3x3 Matrices:\", dot_product)"
   ],
   "id": "f050ff4f4ff09748",
   "outputs": [
    {
     "name": "stdout",
     "output_type": "stream",
     "text": [
      "Dot Product of Two 3x3 Matrices: [[0.40416623 0.33617835 0.88561045]\n",
      " [0.90280627 0.98787126 1.17346469]\n",
      " [0.49635285 0.48235869 0.82497257]]\n"
     ]
    }
   ],
   "execution_count": 12
  },
  {
   "metadata": {
    "ExecuteTime": {
     "end_time": "2025-03-07T18:47:09.583282Z",
     "start_time": "2025-03-07T18:47:09.578404Z"
    }
   },
   "cell_type": "code",
   "source": [
    "matrix_4x4 = np.random.rand(4, 4)\n",
    "transpose_matrix = matrix_4x4.T\n",
    "print(\"Transpose of 4x4 Matrix:\", transpose_matrix)"
   ],
   "id": "800b1f14f4747be4",
   "outputs": [
    {
     "name": "stdout",
     "output_type": "stream",
     "text": [
      "Transpose of 4x4 Matrix: [[5.77107436e-04 1.65490344e-01 3.61091879e-01 5.14358817e-01]\n",
      " [3.47653290e-01 9.34865410e-01 9.41828202e-01 6.08041372e-01]\n",
      " [3.52392029e-01 7.46762579e-01 4.04141895e-01 8.69685856e-01]\n",
      " [6.38445742e-02 2.01401448e-01 5.04007963e-01 6.90015278e-01]]\n"
     ]
    }
   ],
   "execution_count": 13
  },
  {
   "metadata": {
    "ExecuteTime": {
     "end_time": "2025-03-07T18:47:25.000896Z",
     "start_time": "2025-03-07T18:47:24.990334Z"
    }
   },
   "cell_type": "code",
   "source": [
    "det_matrix = np.random.rand(3, 3)\n",
    "determinant = np.linalg.det(det_matrix)\n",
    "print(\"Determinant of 3x3 Matrix:\", determinant)"
   ],
   "id": "5ec3a1cad38ed402",
   "outputs": [
    {
     "name": "stdout",
     "output_type": "stream",
     "text": [
      "Determinant of 3x3 Matrix: 0.18323767384578918\n"
     ]
    }
   ],
   "execution_count": 14
  },
  {
   "metadata": {
    "ExecuteTime": {
     "end_time": "2025-03-07T18:47:37.939456Z",
     "start_time": "2025-03-07T18:47:37.929937Z"
    }
   },
   "cell_type": "code",
   "source": [
    "A = np.random.rand(3, 4)\n",
    "B = np.random.rand(4, 3)\n",
    "matrix_product_AB = np.dot(A, B)\n",
    "print(\"Matrix Product A (3x4) * B (4x3):\", matrix_product_AB)"
   ],
   "id": "2198800e8e47a61f",
   "outputs": [
    {
     "name": "stdout",
     "output_type": "stream",
     "text": [
      "Matrix Product A (3x4) * B (4x3): [[0.85416493 0.88608497 0.57382816]\n",
      " [0.81440763 0.76014061 0.4755887 ]\n",
      " [1.17245876 1.09469402 1.2087661 ]]\n"
     ]
    }
   ],
   "execution_count": 15
  },
  {
   "metadata": {
    "ExecuteTime": {
     "end_time": "2025-03-07T18:47:50.198135Z",
     "start_time": "2025-03-07T18:47:50.190414Z"
    }
   },
   "cell_type": "code",
   "source": [
    "matrix_3x3 = np.random.rand(3, 3)\n",
    "vector_3x1 = np.random.rand(3, 1)\n",
    "matrix_vector_product = np.dot(matrix_3x3, vector_3x1)\n",
    "print(\"Matrix-Vector Product:\", matrix_vector_product)\n"
   ],
   "id": "ed218dd6719091b9",
   "outputs": [
    {
     "name": "stdout",
     "output_type": "stream",
     "text": [
      "Matrix-Vector Product: [[1.09610352]\n",
      " [0.9234953 ]\n",
      " [0.85311906]]\n"
     ]
    }
   ],
   "execution_count": 16
  },
  {
   "metadata": {
    "ExecuteTime": {
     "end_time": "2025-03-07T18:48:05.719266Z",
     "start_time": "2025-03-07T18:48:05.714259Z"
    }
   },
   "cell_type": "code",
   "source": [
    "A = np.random.rand(3, 3)\n",
    "b = np.random.rand(3, 1)\n",
    "x = np.linalg.solve(A, b)\n",
    "print(\"Solution to Ax = b:\", x)"
   ],
   "id": "6adeb14d6004b113",
   "outputs": [
    {
     "name": "stdout",
     "output_type": "stream",
     "text": [
      "Solution to Ax = b: [[ 0.71493699]\n",
      " [-0.17666806]\n",
      " [-0.37664714]]\n"
     ]
    }
   ],
   "execution_count": 17
  },
  {
   "metadata": {
    "ExecuteTime": {
     "end_time": "2025-03-07T18:48:21.909226Z",
     "start_time": "2025-03-07T18:48:21.900232Z"
    }
   },
   "cell_type": "code",
   "source": [
    "matrix_5x5 = np.random.rand(5, 5)\n",
    "row_sums = np.sum(matrix_5x5, axis=1)\n",
    "column_sums = np.sum(matrix_5x5, axis=0)\n",
    "print(\"Row-wise Sums:\", row_sums)\n",
    "print(\"Column-wise Sums:\", column_sums)"
   ],
   "id": "e6c532b76626e7b4",
   "outputs": [
    {
     "name": "stdout",
     "output_type": "stream",
     "text": [
      "Row-wise Sums: [3.02686573 3.3210681  3.80939411 1.41415341 2.68305569]\n",
      "Column-wise Sums: [3.06765808 2.41636783 2.10514827 3.22927006 3.43609279]\n"
     ]
    }
   ],
   "execution_count": 18
  }
 ],
 "metadata": {
  "kernelspec": {
   "display_name": "Python 3",
   "language": "python",
   "name": "python3"
  },
  "language_info": {
   "codemirror_mode": {
    "name": "ipython",
    "version": 2
   },
   "file_extension": ".py",
   "mimetype": "text/x-python",
   "name": "python",
   "nbconvert_exporter": "python",
   "pygments_lexer": "ipython2",
   "version": "2.7.6"
  }
 },
 "nbformat": 4,
 "nbformat_minor": 5
}

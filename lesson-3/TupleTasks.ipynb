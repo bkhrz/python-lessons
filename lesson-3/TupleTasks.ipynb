{
 "cells": [
  {
   "metadata": {},
   "cell_type": "markdown",
   "source": "# **Ex1**",
   "id": "673763f77dc1b90c"
  },
  {
   "metadata": {
    "ExecuteTime": {
     "end_time": "2025-02-10T09:22:16.540306Z",
     "start_time": "2025-02-10T09:22:16.537712Z"
    }
   },
   "cell_type": "code",
   "source": [
    "t = ('Leo', 'Messi', 'number 10')\n",
    "print(t.count('Leo'))"
   ],
   "id": "9d8e6bfba189c67f",
   "outputs": [
    {
     "name": "stdout",
     "output_type": "stream",
     "text": [
      "1\n"
     ]
    }
   ],
   "execution_count": 1
  },
  {
   "metadata": {},
   "cell_type": "markdown",
   "source": "# **Ex2**",
   "id": "3246ca4bb5880ac4"
  },
  {
   "metadata": {
    "ExecuteTime": {
     "end_time": "2025-02-10T09:24:08.044199Z",
     "start_time": "2025-02-10T09:24:08.039632Z"
    }
   },
   "cell_type": "code",
   "source": [
    "t = (1, 3, 90, 10, 20, 30)\n",
    "print(max(t))"
   ],
   "id": "c75f74d5a52faed7",
   "outputs": [
    {
     "name": "stdout",
     "output_type": "stream",
     "text": [
      "90\n"
     ]
    }
   ],
   "execution_count": 2
  },
  {
   "metadata": {},
   "cell_type": "markdown",
   "source": "# **Ex3**",
   "id": "7d6d3121e7e26ec4"
  },
  {
   "metadata": {
    "ExecuteTime": {
     "end_time": "2025-02-10T09:24:35.036468Z",
     "start_time": "2025-02-10T09:24:35.032453Z"
    }
   },
   "cell_type": "code",
   "source": [
    "t = (1, 3, 90, 10, 20, 30)\n",
    "print(min(t))"
   ],
   "id": "7172cdca5058f658",
   "outputs": [
    {
     "name": "stdout",
     "output_type": "stream",
     "text": [
      "1\n"
     ]
    }
   ],
   "execution_count": 3
  },
  {
   "metadata": {},
   "cell_type": "markdown",
   "source": "# **Ex4**",
   "id": "6c416e4078e3f369"
  },
  {
   "metadata": {
    "ExecuteTime": {
     "end_time": "2025-02-11T03:03:12.334601Z",
     "start_time": "2025-02-11T03:03:06.849147Z"
    }
   },
   "cell_type": "code",
   "source": [
    "t = ('Leo', 'Messi', 'number 10')\n",
    "elem = input('enter the element you want to check: ')\n",
    "elem in t"
   ],
   "id": "62cb004b99e20515",
   "outputs": [
    {
     "data": {
      "text/plain": [
       "True"
      ]
     },
     "execution_count": 122,
     "metadata": {},
     "output_type": "execute_result"
    }
   ],
   "execution_count": 122
  },
  {
   "metadata": {},
   "cell_type": "markdown",
   "source": "# **Ex5**",
   "id": "ec3c0fb82c6353bb"
  },
  {
   "metadata": {
    "ExecuteTime": {
     "end_time": "2025-02-10T11:14:28.512879Z",
     "start_time": "2025-02-10T11:14:26.056505Z"
    }
   },
   "cell_type": "code",
   "source": [
    "t = tuple(input('Enter the tuple: ').split())\n",
    "if t:\n",
    "    print(t[0])\n",
    "else:\n",
    "    print('empty')"
   ],
   "id": "9dc113c354ac4e38",
   "outputs": [
    {
     "name": "stdout",
     "output_type": "stream",
     "text": [
      "empty\n"
     ]
    }
   ],
   "execution_count": 8
  },
  {
   "metadata": {},
   "cell_type": "markdown",
   "source": "# **Ex6**",
   "id": "6f4b3cc0e96e0154"
  },
  {
   "metadata": {
    "ExecuteTime": {
     "end_time": "2025-02-10T11:15:05.946862Z",
     "start_time": "2025-02-10T11:15:00.394750Z"
    }
   },
   "cell_type": "code",
   "source": [
    "t = tuple(input('Enter the tuple: ').split())\n",
    "if t:\n",
    "    print(t[-1])\n",
    "else:\n",
    "    print('empty')"
   ],
   "id": "aeb235d5ef67ed7",
   "outputs": [
    {
     "name": "stdout",
     "output_type": "stream",
     "text": [
      "10\n"
     ]
    }
   ],
   "execution_count": 9
  },
  {
   "metadata": {},
   "cell_type": "markdown",
   "source": "# **Ex7**",
   "id": "7bc70fb2cadf0162"
  },
  {
   "metadata": {
    "ExecuteTime": {
     "end_time": "2025-02-10T11:17:10.760250Z",
     "start_time": "2025-02-10T11:17:03.481403Z"
    }
   },
   "cell_type": "code",
   "source": [
    "t = tuple(input('Enter the tuple: ').split())\n",
    "print(len(t))"
   ],
   "id": "f87cc051a49466c2",
   "outputs": [
    {
     "name": "stdout",
     "output_type": "stream",
     "text": [
      "4\n"
     ]
    }
   ],
   "execution_count": 10
  },
  {
   "metadata": {},
   "cell_type": "markdown",
   "source": "# **Ex8**",
   "id": "936402a88d1e0a80"
  },
  {
   "metadata": {
    "ExecuteTime": {
     "end_time": "2025-02-10T11:19:19.482897Z",
     "start_time": "2025-02-10T11:19:19.480351Z"
    }
   },
   "cell_type": "code",
   "source": [
    "t = ('Leo', 'Messi', 'number 10', 'football player', 'barca')\n",
    "print(t[:3])"
   ],
   "id": "86b3f31ed0a7748d",
   "outputs": [
    {
     "name": "stdout",
     "output_type": "stream",
     "text": [
      "('Leo', 'Messi', 'number 10')\n"
     ]
    }
   ],
   "execution_count": 12
  },
  {
   "metadata": {},
   "cell_type": "markdown",
   "source": "#  **Ex9**",
   "id": "5f39f6fa64236688"
  },
  {
   "metadata": {
    "ExecuteTime": {
     "end_time": "2025-02-10T11:21:59.590248Z",
     "start_time": "2025-02-10T11:21:59.586120Z"
    }
   },
   "cell_type": "code",
   "source": [
    "t1 = (1, 2, 3)\n",
    "t2 = ('a', 'b', 'c')\n",
    "print(t1+t2)"
   ],
   "id": "3ebbe287c07d67f4",
   "outputs": [
    {
     "name": "stdout",
     "output_type": "stream",
     "text": [
      "(1, 2, 3, 'a', 'b', 'c')\n"
     ]
    }
   ],
   "execution_count": 13
  },
  {
   "metadata": {},
   "cell_type": "markdown",
   "source": "# **Ex10**",
   "id": "508a9ab67d513e60"
  },
  {
   "metadata": {
    "ExecuteTime": {
     "end_time": "2025-02-10T11:44:52.728921Z",
     "start_time": "2025-02-10T11:44:50.677306Z"
    }
   },
   "cell_type": "code",
   "source": [
    "t = tuple(input('Enter the tuple: ').split())\n",
    "if len(t) == 0:\n",
    "    print('The list is empty')\n",
    "else:\n",
    "    print('The list is not empty')"
   ],
   "id": "50472c2802a11b8",
   "outputs": [
    {
     "name": "stdout",
     "output_type": "stream",
     "text": [
      "The list empty\n"
     ]
    }
   ],
   "execution_count": 19
  },
  {
   "metadata": {},
   "cell_type": "markdown",
   "source": "# **Ex11**",
   "id": "6823fdc942cba3e0"
  },
  {
   "metadata": {
    "ExecuteTime": {
     "end_time": "2025-02-10T12:00:08.684621Z",
     "start_time": "2025-02-10T11:59:57.709394Z"
    }
   },
   "cell_type": "code",
   "source": [
    "t = tuple(input('enter the elements: ').split())\n",
    "el = str(input('enter the element: ').strip())\n",
    "\n",
    "start = 0\n",
    "indices = []\n",
    "while True:\n",
    "    try:\n",
    "        index = t.index(el, start)\n",
    "        indices.append(index)\n",
    "        start = index+1\n",
    "    except ValueError:\n",
    "        break\n",
    "print(indices)"
   ],
   "id": "2a3c2b14775f0e53",
   "outputs": [
    {
     "name": "stdout",
     "output_type": "stream",
     "text": [
      "[0, 1, 2]\n"
     ]
    }
   ],
   "execution_count": 22
  },
  {
   "metadata": {},
   "cell_type": "markdown",
   "source": "# **Ex12**",
   "id": "9e6a890a2e130cd1"
  },
  {
   "metadata": {
    "ExecuteTime": {
     "end_time": "2025-02-10T12:04:37.628923Z",
     "start_time": "2025-02-10T12:04:37.625074Z"
    }
   },
   "cell_type": "code",
   "source": [
    "t = (1, 3, 90, 10, 20, 30)\n",
    "print(sorted(t)[-2])"
   ],
   "id": "9cde1f47b1ba979e",
   "outputs": [
    {
     "name": "stdout",
     "output_type": "stream",
     "text": [
      "30\n"
     ]
    }
   ],
   "execution_count": 23
  },
  {
   "metadata": {},
   "cell_type": "markdown",
   "source": "# **Ex13**",
   "id": "68935a1d75816188"
  },
  {
   "metadata": {
    "ExecuteTime": {
     "end_time": "2025-02-10T12:05:22.076184Z",
     "start_time": "2025-02-10T12:05:22.068403Z"
    }
   },
   "cell_type": "code",
   "source": [
    "t = (1, 3, 90, 10, 20, 30)\n",
    "print(sorted(t)[1])"
   ],
   "id": "7d6fe079df99b352",
   "outputs": [
    {
     "name": "stdout",
     "output_type": "stream",
     "text": [
      "3\n"
     ]
    }
   ],
   "execution_count": 24
  },
  {
   "metadata": {},
   "cell_type": "markdown",
   "source": "# **Ex14**",
   "id": "d3920d06918f6ffe"
  },
  {
   "metadata": {
    "ExecuteTime": {
     "end_time": "2025-02-10T18:38:28.825492Z",
     "start_time": "2025-02-10T18:38:28.823680Z"
    }
   },
   "cell_type": "code",
   "source": [
    "l = [2]\n",
    "print(tuple(l))"
   ],
   "id": "b2ccc4e482ff961d",
   "outputs": [
    {
     "name": "stdout",
     "output_type": "stream",
     "text": [
      "(2,)\n"
     ]
    }
   ],
   "execution_count": 117
  },
  {
   "metadata": {},
   "cell_type": "markdown",
   "source": "# **Ex15**",
   "id": "75d3ac2472ce08de"
  },
  {
   "metadata": {
    "ExecuteTime": {
     "end_time": "2025-02-10T12:11:48.393114Z",
     "start_time": "2025-02-10T12:11:48.385155Z"
    }
   },
   "cell_type": "code",
   "source": [
    "l = ['orange', 'black', 'red', 'yellow']\n",
    "print(tuple(l))"
   ],
   "id": "ec858d4c8dfd34fc",
   "outputs": [
    {
     "name": "stdout",
     "output_type": "stream",
     "text": [
      "('orange', 'black', 'red', 'yellow')\n"
     ]
    }
   ],
   "execution_count": 46
  },
  {
   "metadata": {},
   "cell_type": "markdown",
   "source": "# **Ex16**",
   "id": "2e4fc39164ce40cf"
  },
  {
   "metadata": {
    "ExecuteTime": {
     "end_time": "2025-02-10T18:39:34.201772Z",
     "start_time": "2025-02-10T18:39:29.923967Z"
    }
   },
   "cell_type": "code",
   "source": [
    "t = tuple(input('enter: ').split())\n",
    "tuple(sorted(t)) == t"
   ],
   "id": "6e64d5128f3ed252",
   "outputs": [
    {
     "data": {
      "text/plain": [
       "True"
      ]
     },
     "execution_count": 119,
     "metadata": {},
     "output_type": "execute_result"
    }
   ],
   "execution_count": 119
  },
  {
   "metadata": {},
   "cell_type": "markdown",
   "source": "# **Ex17**",
   "id": "ef0932bff3c06877"
  },
  {
   "metadata": {
    "ExecuteTime": {
     "end_time": "2025-02-10T12:39:52.256053Z",
     "start_time": "2025-02-10T12:39:43.278277Z"
    }
   },
   "cell_type": "code",
   "source": [
    "t = (1, 3, 90, 10, 20, 30)\n",
    "print(max(t[t.index(int(input('enter the start of the subtuple: '))):t.index(int(input('enter the end of the subtuple: ')))+1]))"
   ],
   "id": "ad4cde2255cb2118",
   "outputs": [
    {
     "name": "stdout",
     "output_type": "stream",
     "text": [
      "90\n"
     ]
    }
   ],
   "execution_count": 64
  },
  {
   "metadata": {},
   "cell_type": "markdown",
   "source": "# **Ex18**",
   "id": "ffff7838c64c0019"
  },
  {
   "metadata": {},
   "cell_type": "code",
   "outputs": [],
   "execution_count": null,
   "source": [
    "t = (1, 3, 90, 10, 20, 30)\n",
    "print(min(t[t.index(int(input('enter the start of the subtuple: '))):t.index(int(input('enter the end of the subtuple: ')))+1]))"
   ],
   "id": "61eebcd8a8c6c455"
  },
  {
   "metadata": {},
   "cell_type": "markdown",
   "source": "# **Ex19**",
   "id": "2641db49d5c32a48"
  },
  {
   "metadata": {
    "ExecuteTime": {
     "end_time": "2025-02-10T12:45:19.084535Z",
     "start_time": "2025-02-10T12:45:19.081245Z"
    }
   },
   "cell_type": "code",
   "source": [
    "t = ('Leo', 'Messi', 'number 10', 'football player', 'barca')\n",
    "a = list(t)\n",
    "a.remove('Leo')\n",
    "print(a)"
   ],
   "id": "303081dd8bc7797d",
   "outputs": [
    {
     "name": "stdout",
     "output_type": "stream",
     "text": [
      "['Messi', 'number 10', 'football player', 'barca']\n"
     ]
    }
   ],
   "execution_count": 66
  },
  {
   "metadata": {},
   "cell_type": "markdown",
   "source": "# **Ex20**",
   "id": "760fae88c7b3365c"
  },
  {
   "metadata": {
    "ExecuteTime": {
     "end_time": "2025-02-10T13:09:41.951609Z",
     "start_time": "2025-02-10T13:09:41.946622Z"
    }
   },
   "cell_type": "code",
   "source": [
    "t = ('Leo', 'Messi', 'number 10', 'football player', 'barca')\n",
    "l1 = []\n",
    "for x in range(0, len(list(t)), 2):\n",
    "    l1.append(tuple(list(t)[x:x+2]))\n",
    "print(tuple(l1))"
   ],
   "id": "9390a6094267daf8",
   "outputs": [
    {
     "name": "stdout",
     "output_type": "stream",
     "text": [
      "(('Leo', 'Messi'), ('number 10', 'football player'), ('barca',))\n"
     ]
    }
   ],
   "execution_count": 77
  },
  {
   "metadata": {},
   "cell_type": "markdown",
   "source": "# **Ex21**",
   "id": "8d159e109d807d78"
  },
  {
   "metadata": {
    "ExecuteTime": {
     "end_time": "2025-02-10T13:11:50.990608Z",
     "start_time": "2025-02-10T13:11:50.987807Z"
    }
   },
   "cell_type": "code",
   "source": [
    "t = ('Leo', 'Messi', 'number 10', 'football player', 'barca')\n",
    "l1 = []\n",
    "for x in list(t):\n",
    "    l1.extend([x]*2)\n",
    "print(tuple(l1))"
   ],
   "id": "4fb9ba85ed231d1f",
   "outputs": [
    {
     "name": "stdout",
     "output_type": "stream",
     "text": [
      "('Leo', 'Leo', 'Messi', 'Messi', 'number 10', 'number 10', 'football player', 'football player', 'barca', 'barca')\n"
     ]
    }
   ],
   "execution_count": 79
  },
  {
   "metadata": {},
   "cell_type": "markdown",
   "source": "# **Ex22**",
   "id": "54b511bfd42bcedd"
  },
  {
   "metadata": {
    "ExecuteTime": {
     "end_time": "2025-02-10T13:07:15.534545Z",
     "start_time": "2025-02-10T13:07:10.001847Z"
    }
   },
   "cell_type": "code",
   "source": [
    "start = int(input('start of the range: '))\n",
    "end = int(input('end of the range: '))\n",
    "print(tuple(range(start, end+1)))\n"
   ],
   "id": "bc0d68b4c58a9ba",
   "outputs": [
    {
     "name": "stdout",
     "output_type": "stream",
     "text": [
      "(3, 4, 5, 6, 7, 8, 9, 10, 11, 12, 13, 14, 15, 16, 17, 18, 19, 20, 21, 22, 23, 24, 25, 26, 27, 28, 29, 30, 31, 32, 33, 34, 35, 36, 37, 38, 39, 40)\n"
     ]
    }
   ],
   "execution_count": 76
  },
  {
   "metadata": {},
   "cell_type": "markdown",
   "source": "# **Ex23**",
   "id": "2a1fb9f06b211cfe"
  },
  {
   "metadata": {
    "ExecuteTime": {
     "end_time": "2025-02-10T13:14:36.835054Z",
     "start_time": "2025-02-10T13:14:36.832269Z"
    }
   },
   "cell_type": "code",
   "source": [
    "t = ('Leo', 'Messi', 10, 'football player', 'barca')\n",
    "l = list(t)\n",
    "l.reverse()\n",
    "print(tuple(l))"
   ],
   "id": "58ad0b11e700a7fd",
   "outputs": [
    {
     "name": "stdout",
     "output_type": "stream",
     "text": [
      "('barca', 'football player', 10, 'Messi', 'Leo')\n"
     ]
    }
   ],
   "execution_count": 85
  },
  {
   "metadata": {},
   "cell_type": "markdown",
   "source": "# **Ex24**",
   "id": "b25c9f5bd82d365a"
  },
  {
   "metadata": {
    "ExecuteTime": {
     "end_time": "2025-02-10T18:34:34.746882Z",
     "start_time": "2025-02-10T18:34:29.014055Z"
    }
   },
   "cell_type": "code",
   "source": [
    "t = tuple(input('enter the tuple: ').split())\n",
    "l = list(t)\n",
    "l.reverse()\n",
    "tuple(l) == t"
   ],
   "id": "a483c592ed300737",
   "outputs": [
    {
     "data": {
      "text/plain": [
       "False"
      ]
     },
     "execution_count": 92,
     "metadata": {},
     "output_type": "execute_result"
    }
   ],
   "execution_count": 92
  },
  {
   "metadata": {},
   "cell_type": "markdown",
   "source": "# **Ex25**",
   "id": "21e271e5c3d861c9"
  },
  {
   "metadata": {
    "ExecuteTime": {
     "end_time": "2025-02-10T18:36:09.380535Z",
     "start_time": "2025-02-10T18:36:09.378065Z"
    }
   },
   "cell_type": "code",
   "source": [
    "t = (2, 3, 3, 4, 4, 5, 6, 6, 7, 7)\n",
    "print(tuple(set(t)))"
   ],
   "id": "779e341e3f50beda",
   "outputs": [
    {
     "name": "stdout",
     "output_type": "stream",
     "text": [
      "(2, 3, 4, 5, 6, 7)\n"
     ]
    }
   ],
   "execution_count": 96
  }
 ],
 "metadata": {
  "kernelspec": {
   "display_name": "Python 3",
   "language": "python",
   "name": "python3"
  },
  "language_info": {
   "codemirror_mode": {
    "name": "ipython",
    "version": 2
   },
   "file_extension": ".py",
   "mimetype": "text/x-python",
   "name": "python",
   "nbconvert_exporter": "python",
   "pygments_lexer": "ipython2",
   "version": "2.7.6"
  }
 },
 "nbformat": 4,
 "nbformat_minor": 5
}

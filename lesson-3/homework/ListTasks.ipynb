{
 "cells": [
  {
   "metadata": {},
   "cell_type": "markdown",
   "source": "## **Ex 1**",
   "id": "f3f2d243c1922d02"
  },
  {
   "metadata": {
    "ExecuteTime": {
     "end_time": "2025-02-10T08:27:12.447072Z",
     "start_time": "2025-02-10T08:27:08.729688Z"
    }
   },
   "cell_type": "code",
   "source": [
    "l = [1, 2, 3, 3, 3, 4, 5]\n",
    "element = int(input('element you want to count '))\n",
    "print(l.count(element))"
   ],
   "id": "62317bdf5c966c35",
   "outputs": [
    {
     "name": "stdout",
     "output_type": "stream",
     "text": [
      "3\n"
     ]
    }
   ],
   "execution_count": 329
  },
  {
   "metadata": {},
   "cell_type": "markdown",
   "source": "## **Ex2**",
   "id": "e20d8efc4cfd9186"
  },
  {
   "metadata": {
    "ExecuteTime": {
     "end_time": "2025-02-08T15:25:15.848211Z",
     "start_time": "2025-02-08T15:25:15.832908Z"
    }
   },
   "cell_type": "code",
   "source": [
    "l = [1, 2, 3, 3, 3, 4, 5]\n",
    "print(sum(l))"
   ],
   "id": "3084444b6a5d4d7",
   "outputs": [
    {
     "name": "stdout",
     "output_type": "stream",
     "text": [
      "21\n"
     ]
    }
   ],
   "execution_count": 25
  },
  {
   "metadata": {},
   "cell_type": "markdown",
   "source": "# **Ex3**\n",
   "id": "1a8d9c9f0b98c7c"
  },
  {
   "metadata": {
    "ExecuteTime": {
     "end_time": "2025-02-08T15:44:25.285735Z",
     "start_time": "2025-02-08T15:44:25.282746Z"
    }
   },
   "cell_type": "code",
   "source": [
    "l = [1, 2, 3, 3, 3, 4, 5]\n",
    "print(max(l))"
   ],
   "id": "5a1b3606f5b98e2",
   "outputs": [
    {
     "name": "stdout",
     "output_type": "stream",
     "text": [
      "5\n"
     ]
    }
   ],
   "execution_count": 29
  },
  {
   "metadata": {},
   "cell_type": "markdown",
   "source": "# **Ex4**\n",
   "id": "c6baeb9601acafda"
  },
  {
   "metadata": {
    "ExecuteTime": {
     "end_time": "2025-02-10T08:29:25.742290Z",
     "start_time": "2025-02-10T08:29:25.733603Z"
    }
   },
   "cell_type": "code",
   "source": [
    "l = [1, 2, 3, 3, 3, 4, 5]\n",
    "print(min(l))"
   ],
   "id": "642110ffd6a04d3c",
   "outputs": [
    {
     "name": "stdout",
     "output_type": "stream",
     "text": [
      "1\n"
     ]
    }
   ],
   "execution_count": 330
  },
  {
   "metadata": {},
   "cell_type": "markdown",
   "source": "# **Ex5**\n",
   "id": "496cfef6de8dd55b"
  },
  {
   "metadata": {
    "ExecuteTime": {
     "end_time": "2025-02-11T02:56:33.196245Z",
     "start_time": "2025-02-11T02:56:29.855458Z"
    }
   },
   "cell_type": "code",
   "source": [
    "l = [1, 2, 3, 3, 4, 5, 6]\n",
    "element = int(input('enter the element you want to check: '))\n",
    "element in l"
   ],
   "id": "856bfb6c449011ba",
   "outputs": [
    {
     "data": {
      "text/plain": [
       "True"
      ]
     },
     "execution_count": 386,
     "metadata": {},
     "output_type": "execute_result"
    }
   ],
   "execution_count": 386
  },
  {
   "metadata": {},
   "cell_type": "markdown",
   "source": "# **Ex6**",
   "id": "87ec7ec5bd686133"
  },
  {
   "metadata": {
    "ExecuteTime": {
     "end_time": "2025-02-10T08:59:15.705661Z",
     "start_time": "2025-02-10T08:59:12.971917Z"
    }
   },
   "cell_type": "code",
   "source": [
    "l = input('Enter the elements of list:').split()\n",
    "if l:\n",
    "    print(f'First element is {l[0]}')\n",
    "else:\n",
    "    print('The list is empty')"
   ],
   "id": "cdd2f84af854898",
   "outputs": [
    {
     "name": "stdout",
     "output_type": "stream",
     "text": [
      "The list is empty\n"
     ]
    }
   ],
   "execution_count": 336
  },
  {
   "metadata": {},
   "cell_type": "markdown",
   "source": "# **Ex7**",
   "id": "36ced10e065624f8"
  },
  {
   "metadata": {
    "ExecuteTime": {
     "end_time": "2025-02-09T06:43:47.899711Z",
     "start_time": "2025-02-09T06:43:46.134162Z"
    }
   },
   "cell_type": "code",
   "source": [
    "l = input('Enter the elements of list:').split()\n",
    "if l:\n",
    "    print(f'Last element is {l[-1]}')\n",
    "else:\n",
    "    print('The list is empty')"
   ],
   "id": "a22fb51dc425fa50",
   "outputs": [
    {
     "name": "stdout",
     "output_type": "stream",
     "text": [
      "The list is empty\n"
     ]
    }
   ],
   "execution_count": 51
  },
  {
   "metadata": {},
   "cell_type": "markdown",
   "source": "# **Ex8**",
   "id": "c088bc12b01a4f76"
  },
  {
   "metadata": {
    "ExecuteTime": {
     "end_time": "2025-02-10T08:59:34.737955Z",
     "start_time": "2025-02-10T08:59:34.733617Z"
    }
   },
   "cell_type": "code",
   "source": [
    "l =[\"apple\", 'banana', 'carrot', 'cherry']\n",
    "print(f\"The first three elements are {l[:3]}\")"
   ],
   "id": "62bfb27a17d170e6",
   "outputs": [
    {
     "name": "stdout",
     "output_type": "stream",
     "text": [
      "The first three elements are ['apple', 'banana', 'carrot']\n"
     ]
    }
   ],
   "execution_count": 337
  },
  {
   "metadata": {},
   "cell_type": "markdown",
   "source": "# **Ex9**",
   "id": "f98d03331fe4fc60"
  },
  {
   "metadata": {
    "ExecuteTime": {
     "end_time": "2025-02-09T10:07:56.457201Z",
     "start_time": "2025-02-09T10:07:56.448522Z"
    }
   },
   "cell_type": "code",
   "source": [
    "l =[\"apple\", 'banana', 'carrot', 'cherry']\n",
    "l.reverse()\n",
    "print(f\"The reverse is {l}\")"
   ],
   "id": "5c033b2e7507ca61",
   "outputs": [
    {
     "name": "stdout",
     "output_type": "stream",
     "text": [
      "The reverse is ['cherry', 'carrot', 'banana', 'apple']\n"
     ]
    }
   ],
   "execution_count": 94
  },
  {
   "metadata": {},
   "cell_type": "markdown",
   "source": "# **Ex10**",
   "id": "16c8759b8db20e39"
  },
  {
   "metadata": {
    "ExecuteTime": {
     "end_time": "2025-02-10T09:00:21.281920Z",
     "start_time": "2025-02-10T09:00:21.279905Z"
    }
   },
   "cell_type": "code",
   "source": [
    "l = [1, 3, 6, 7, 1, 2, 4, 2, 1, 20, 5, 2000, 80]\n",
    "print(sorted(l))"
   ],
   "id": "48586171f3e826a1",
   "outputs": [
    {
     "name": "stdout",
     "output_type": "stream",
     "text": [
      "[1, 1, 1, 2, 2, 3, 4, 5, 6, 7, 20, 80, 2000]\n"
     ]
    }
   ],
   "execution_count": 340
  },
  {
   "metadata": {},
   "cell_type": "markdown",
   "source": "# **Ex11**",
   "id": "35696050d44f816d"
  },
  {
   "metadata": {
    "ExecuteTime": {
     "end_time": "2025-02-10T09:01:07.807313Z",
     "start_time": "2025-02-10T09:01:07.801385Z"
    }
   },
   "cell_type": "code",
   "source": [
    "l = ['a', 'b', 'b', 'a', 'c', 'd']\n",
    "print(list(set(l)))"
   ],
   "id": "9896b96b211f7622",
   "outputs": [
    {
     "name": "stdout",
     "output_type": "stream",
     "text": [
      "['a', 'd', 'b', 'c']\n"
     ]
    }
   ],
   "execution_count": 341
  },
  {
   "metadata": {},
   "cell_type": "markdown",
   "source": "# **Ex12**",
   "id": "b6889bee6babf47c"
  },
  {
   "metadata": {
    "ExecuteTime": {
     "end_time": "2025-02-09T09:41:31.858665Z",
     "start_time": "2025-02-09T09:41:31.853003Z"
    }
   },
   "cell_type": "code",
   "source": [
    "l =[\"apple\", 'banana', 'carrot', 'cherry']\n",
    "l.insert(2, \"strawberry\")\n",
    "print(l)"
   ],
   "id": "dce5bcb302bf78ec",
   "outputs": [
    {
     "name": "stdout",
     "output_type": "stream",
     "text": [
      "['apple', 'banana', 'strawberry', 'carrot', 'cherry']\n"
     ]
    }
   ],
   "execution_count": 87
  },
  {
   "metadata": {},
   "cell_type": "markdown",
   "source": "# **Ex13**",
   "id": "2a294ca8a4a2610a"
  },
  {
   "metadata": {
    "ExecuteTime": {
     "end_time": "2025-02-09T10:11:12.091201Z",
     "start_time": "2025-02-09T10:11:12.086942Z"
    }
   },
   "cell_type": "code",
   "source": [
    "l = ['a', 'b', 'b', 'a', 'c', 'd']\n",
    "print(l.index('b'))"
   ],
   "id": "bd813c82e8506a5e",
   "outputs": [
    {
     "name": "stdout",
     "output_type": "stream",
     "text": [
      "1\n"
     ]
    }
   ],
   "execution_count": 96
  },
  {
   "metadata": {},
   "cell_type": "markdown",
   "source": "# **Ex14**",
   "id": "b37da4f845befd7d"
  },
  {
   "metadata": {
    "ExecuteTime": {
     "end_time": "2025-02-10T09:01:51.522483Z",
     "start_time": "2025-02-10T09:01:49.095935Z"
    }
   },
   "cell_type": "code",
   "source": [
    "mylist = input('Enter a list: ').split()\n",
    "if len(mylist) == 0:\n",
    "    print('The list empty')\n",
    "else:\n",
    "    print('The list is not empty')"
   ],
   "id": "f66ed00499928796",
   "outputs": [
    {
     "name": "stdout",
     "output_type": "stream",
     "text": [
      "The list is not empty\n"
     ]
    }
   ],
   "execution_count": 344
  },
  {
   "metadata": {},
   "cell_type": "markdown",
   "source": "# **Ex15**",
   "id": "59c2e08280baa481"
  },
  {
   "metadata": {
    "ExecuteTime": {
     "end_time": "2025-02-09T12:48:21.420063Z",
     "start_time": "2025-02-09T12:48:11.521240Z"
    }
   },
   "cell_type": "code",
   "source": [
    "numbers = input('Enter the numbers: ').split()\n",
    "even =[]\n",
    "for x in numbers:\n",
    "    if int(x)%2 == 0:\n",
    "        even.append(int(x))\n",
    "print(len(even))"
   ],
   "id": "cc40c487190da4aa",
   "outputs": [
    {
     "name": "stdout",
     "output_type": "stream",
     "text": [
      "2\n"
     ]
    }
   ],
   "execution_count": 123
  },
  {
   "metadata": {},
   "cell_type": "markdown",
   "source": "# **Ex16**",
   "id": "9384baeb77611e22"
  },
  {
   "metadata": {
    "ExecuteTime": {
     "end_time": "2025-02-09T12:49:35.650748Z",
     "start_time": "2025-02-09T12:49:27.363163Z"
    }
   },
   "cell_type": "code",
   "source": [
    "numbers = input('Enter the numbers: ').split()\n",
    "odd =[]\n",
    "for x in numbers:\n",
    "    if int(x)%2 == 1:\n",
    "        odd.append(int(x))\n",
    "print(len(odd))"
   ],
   "id": "10d713744c8fd512",
   "outputs": [
    {
     "name": "stdout",
     "output_type": "stream",
     "text": [
      "2\n"
     ]
    }
   ],
   "execution_count": 126
  },
  {
   "metadata": {},
   "cell_type": "markdown",
   "source": "# **Ex17**",
   "id": "ca7b34fac61dc0c6"
  },
  {
   "metadata": {
    "ExecuteTime": {
     "end_time": "2025-02-09T12:54:43.369228Z",
     "start_time": "2025-02-09T12:54:43.364559Z"
    }
   },
   "cell_type": "code",
   "source": [
    "l1 = [1, 2, 3, 4, 5]\n",
    "l2 = ['a', 'b', 'b', 'a', 'c', 'd']\n",
    "l = l1 +l2\n",
    "print(l)"
   ],
   "id": "22b62b8559d71612",
   "outputs": [
    {
     "name": "stdout",
     "output_type": "stream",
     "text": [
      "[1, 2, 3, 4, 5, 'a', 'b', 'b', 'a', 'c', 'd']\n"
     ]
    }
   ],
   "execution_count": 128
  },
  {
   "metadata": {},
   "cell_type": "markdown",
   "source": "# **Ex18**",
   "id": "9daa8da4ae573a6f"
  },
  {
   "metadata": {
    "ExecuteTime": {
     "end_time": "2025-02-11T02:58:24.320536Z",
     "start_time": "2025-02-11T02:58:24.318536Z"
    }
   },
   "cell_type": "code",
   "source": [
    "l1 = [1, 2, 3, 4, 5]\n",
    "l2 = [2, 3]\n",
    "print(set(l2).issubset(set(l1)))"
   ],
   "id": "2cfc48316d3c1273",
   "outputs": [
    {
     "name": "stdout",
     "output_type": "stream",
     "text": [
      "True\n"
     ]
    }
   ],
   "execution_count": 392
  },
  {
   "metadata": {},
   "cell_type": "markdown",
   "source": "# **Ex19**",
   "id": "cc2c48cbbfef09f7"
  },
  {
   "metadata": {
    "ExecuteTime": {
     "end_time": "2025-02-10T09:05:45.770734Z",
     "start_time": "2025-02-10T09:05:23.207293Z"
    }
   },
   "cell_type": "code",
   "source": [
    "mylist  = input('enter the list: ').split()\n",
    "elem = input(\"enter the element you want to replace: \")\n",
    "elem2 = input('enter the new element: ')\n",
    "mylist[mylist.index(elem)] = elem2\n",
    "print(mylist)"
   ],
   "id": "41b327ce401c193",
   "outputs": [
    {
     "name": "stdout",
     "output_type": "stream",
     "text": [
      "['hey', 'tit', 'ui', 'cha']\n"
     ]
    }
   ],
   "execution_count": 358
  },
  {
   "metadata": {},
   "cell_type": "markdown",
   "source": "# **Ex20**",
   "id": "a243d02a11ef7788"
  },
  {
   "metadata": {
    "ExecuteTime": {
     "end_time": "2025-02-09T19:20:40.336297Z",
     "start_time": "2025-02-09T19:20:40.331939Z"
    }
   },
   "cell_type": "code",
   "source": [
    "mylist = [2, 3, 90, 4, 5, 80]\n",
    "mylist.sort()\n",
    "print(mylist[-2])"
   ],
   "id": "cafebf638b53b8a3",
   "outputs": [
    {
     "name": "stdout",
     "output_type": "stream",
     "text": [
      "80\n"
     ]
    }
   ],
   "execution_count": 156
  },
  {
   "metadata": {},
   "cell_type": "markdown",
   "source": "# **Ex21**",
   "id": "52648a2c207622ca"
  },
  {
   "metadata": {
    "ExecuteTime": {
     "end_time": "2025-02-09T19:25:06.282087Z",
     "start_time": "2025-02-09T19:25:06.277349Z"
    }
   },
   "cell_type": "code",
   "source": [
    "mylist = [2, 3, 90, 4, 5, 80]\n",
    "mylist.sort()\n",
    "print(mylist[1])"
   ],
   "id": "dfa86b816267e0e5",
   "outputs": [
    {
     "name": "stdout",
     "output_type": "stream",
     "text": [
      "3\n"
     ]
    }
   ],
   "execution_count": 158
  },
  {
   "metadata": {},
   "cell_type": "markdown",
   "source": "# **Ex22**",
   "id": "2e4d2290f4be0a7f"
  },
  {
   "metadata": {
    "ExecuteTime": {
     "end_time": "2025-02-09T19:30:44.236311Z",
     "start_time": "2025-02-09T19:30:39.113481Z"
    }
   },
   "cell_type": "code",
   "source": [
    "mylist = input('enter the numbers: ').split()\n",
    "even = []\n",
    "for x in mylist:\n",
    "    if int(x)%2 == 0:\n",
    "        even.append(int(x))\n",
    "print(even)"
   ],
   "id": "8f50e5970e306295",
   "outputs": [
    {
     "name": "stdout",
     "output_type": "stream",
     "text": [
      "[2, 4, 6, 8]\n"
     ]
    }
   ],
   "execution_count": 159
  },
  {
   "metadata": {},
   "cell_type": "markdown",
   "source": "# **Ex23**",
   "id": "f5e9ccaad966188"
  },
  {
   "metadata": {
    "ExecuteTime": {
     "end_time": "2025-02-09T19:32:00.499259Z",
     "start_time": "2025-02-09T19:31:56.805502Z"
    }
   },
   "cell_type": "code",
   "source": [
    "mylist = input('enter the numbers: ').split()\n",
    "odd = []\n",
    "for x in mylist:\n",
    "    if int(x)%2 == 1:\n",
    "        odd.append(int(x))\n",
    "print(odd)"
   ],
   "id": "2be7db7b9c5f591a",
   "outputs": [
    {
     "name": "stdout",
     "output_type": "stream",
     "text": [
      "[3, 5]\n"
     ]
    }
   ],
   "execution_count": 160
  },
  {
   "metadata": {},
   "cell_type": "markdown",
   "source": "# **Ex24**",
   "id": "f283a38b082db52d"
  },
  {
   "metadata": {
    "ExecuteTime": {
     "end_time": "2025-02-09T19:41:47.503474Z",
     "start_time": "2025-02-09T19:41:43.953956Z"
    }
   },
   "cell_type": "code",
   "source": [
    "mylist = input('enter the elements of list: ').split()\n",
    "print(len(mylist))"
   ],
   "id": "3c3c9cb0209a89c0",
   "outputs": [
    {
     "name": "stdout",
     "output_type": "stream",
     "text": [
      "4\n"
     ]
    }
   ],
   "execution_count": 170
  },
  {
   "metadata": {},
   "cell_type": "markdown",
   "source": "# **Ex25**",
   "id": "86ed266128af8b96"
  },
  {
   "metadata": {
    "ExecuteTime": {
     "end_time": "2025-02-10T09:07:21.816243Z",
     "start_time": "2025-02-10T09:07:21.812447Z"
    }
   },
   "cell_type": "code",
   "source": [
    "l =[\"apple\", 'banana', 'carrot', 'cherry']\n",
    "print(l.copy())"
   ],
   "id": "c3b51e0e5b9fa698",
   "outputs": [
    {
     "name": "stdout",
     "output_type": "stream",
     "text": [
      "['apple', 'banana', 'carrot', 'cherry']\n"
     ]
    }
   ],
   "execution_count": 359
  },
  {
   "metadata": {},
   "cell_type": "markdown",
   "source": "# **Ex26**",
   "id": "72ae5f650147cf15"
  },
  {
   "metadata": {
    "ExecuteTime": {
     "end_time": "2025-02-10T04:41:36.117358Z",
     "start_time": "2025-02-10T04:41:31.269396Z"
    }
   },
   "cell_type": "code",
   "source": [
    "mylist = input('Enter the list: ').split()\n",
    "x = len(mylist)\n",
    "if x%2 == 0:\n",
    "    print(f'The two elements in the middle are {mylist[x//2-1]} and {mylist[x//2]}')\n",
    "else:\n",
    "    print(f'The middle element is {mylist[x//2]}')\n"
   ],
   "id": "d39cc2310ebe6d6c",
   "outputs": [
    {
     "name": "stdout",
     "output_type": "stream",
     "text": [
      "The middle element is jd\n"
     ]
    }
   ],
   "execution_count": 176
  },
  {
   "metadata": {},
   "cell_type": "markdown",
   "source": "# **Ex27**",
   "id": "a7d9670d86473232"
  },
  {
   "metadata": {
    "ExecuteTime": {
     "end_time": "2025-02-10T09:08:26.651700Z",
     "start_time": "2025-02-10T09:08:12.593803Z"
    }
   },
   "cell_type": "code",
   "source": [
    "mylist = [2, 4, 5, 6, 10, 14, 20, 80, 90, 120, 124]\n",
    "start = mylist.index(int(input('Enter the first element of the sublist: ')))\n",
    "end = mylist.index(int(input('Enter the last element of the sublist: ')))\n",
    "print(max(mylist[start:(end+1)]))\n"
   ],
   "id": "ee5924b0890f9f2b",
   "outputs": [
    {
     "name": "stdout",
     "output_type": "stream",
     "text": [
      "80\n"
     ]
    }
   ],
   "execution_count": 360
  },
  {
   "metadata": {},
   "cell_type": "markdown",
   "source": "# **Ex28**",
   "id": "84498bf1bc212061"
  },
  {
   "metadata": {
    "ExecuteTime": {
     "end_time": "2025-02-10T09:09:19.521707Z",
     "start_time": "2025-02-10T09:09:10.599988Z"
    }
   },
   "cell_type": "code",
   "source": [
    "mylist = [2, 4, 5, 6, 10, 14, 20, 80, 90, 120, 124]\n",
    "start = mylist.index(int(input('Enter the first element of the sublist: ')))\n",
    "end = mylist.index(int(input('Enter the last element of the sublist: ')))\n",
    "print(min(mylist[start:(end+1)]))"
   ],
   "id": "f6f9df209b7c9039",
   "outputs": [
    {
     "name": "stdout",
     "output_type": "stream",
     "text": [
      "5\n"
     ]
    }
   ],
   "execution_count": 361
  },
  {
   "metadata": {},
   "cell_type": "markdown",
   "source": "# **Ex29**",
   "id": "da56d5ea90196226"
  },
  {
   "metadata": {
    "ExecuteTime": {
     "end_time": "2025-02-10T05:09:22.069281Z",
     "start_time": "2025-02-10T05:09:19.233103Z"
    }
   },
   "cell_type": "code",
   "source": [
    "l =[\"apple\", 'banana', 'carrot', 'cherry']\n",
    "ind = int(input('Enter the order of the element you want to remove: '))\n",
    "l.remove(l[ind-1])\n",
    "print(l)"
   ],
   "id": "31291fe475e3c098",
   "outputs": [
    {
     "name": "stdout",
     "output_type": "stream",
     "text": [
      "['apple', 'carrot', 'cherry']\n"
     ]
    }
   ],
   "execution_count": 203
  },
  {
   "metadata": {},
   "cell_type": "markdown",
   "source": "# **Ex30**",
   "id": "da5785a1cf20c4a5"
  },
  {
   "metadata": {
    "ExecuteTime": {
     "end_time": "2025-02-10T05:12:54.575660Z",
     "start_time": "2025-02-10T05:12:54.563056Z"
    }
   },
   "cell_type": "code",
   "source": [
    "mylist = [2, 3, 90, 4, 5, 1, 10, 100, 80]\n",
    "mylist == sorted(mylist)"
   ],
   "id": "62ace2929c3623e8",
   "outputs": [
    {
     "data": {
      "text/plain": [
       "False"
      ]
     },
     "execution_count": 204,
     "metadata": {},
     "output_type": "execute_result"
    }
   ],
   "execution_count": 204
  },
  {
   "metadata": {},
   "cell_type": "markdown",
   "source": "# **Ex31**",
   "id": "8d6b021a0714ebd7"
  },
  {
   "metadata": {
    "ExecuteTime": {
     "end_time": "2025-02-10T05:37:01.315073Z",
     "start_time": "2025-02-10T05:36:53.521650Z"
    }
   },
   "cell_type": "code",
   "source": [
    "mylist = input('enter the list: ').split()\n",
    "num = int(input('How many times does it need to be repeated: '))\n",
    "l2 = []\n",
    "for x in mylist:\n",
    "    l2.extend(num*[x])\n",
    "print(l2)"
   ],
   "id": "58ef4b73022e6c8",
   "outputs": [
    {
     "name": "stdout",
     "output_type": "stream",
     "text": [
      "[['hj', 'hj'], ['jj', 'jj']]\n"
     ]
    }
   ],
   "execution_count": 213
  },
  {
   "metadata": {},
   "cell_type": "markdown",
   "source": "# **Ex32**",
   "id": "95a441e9089451f9"
  },
  {
   "metadata": {
    "ExecuteTime": {
     "end_time": "2025-02-10T09:11:05.410227Z",
     "start_time": "2025-02-10T09:11:05.407706Z"
    }
   },
   "cell_type": "code",
   "source": [
    "fruits = ['orange', 'cherry', 'strawberry', 'melon']\n",
    "vegetables = ['cucumber', 'carrot', 'potato']\n",
    "print(sorted(fruits + vegetables))"
   ],
   "id": "9c53016e576fe258",
   "outputs": [
    {
     "name": "stdout",
     "output_type": "stream",
     "text": [
      "['carrot', 'cherry', 'cucumber', 'melon', 'orange', 'potato', 'strawberry']\n"
     ]
    }
   ],
   "execution_count": 376
  },
  {
   "metadata": {},
   "cell_type": "markdown",
   "source": "# **Ex33**",
   "id": "88fccc1b79effde2"
  },
  {
   "metadata": {
    "ExecuteTime": {
     "end_time": "2025-02-10T11:49:51.924426Z",
     "start_time": "2025-02-10T11:49:51.905797Z"
    }
   },
   "cell_type": "code",
   "source": [
    "mylist = [1, 2, 3, 2, 4, 2]\n",
    "start = 0\n",
    "ind = []\n",
    "while True:\n",
    "    try:\n",
    "        index = mylist.index(2, start)\n",
    "        ind.append(index)\n",
    "        start = index + 1\n",
    "    except ValueError:\n",
    "        break\n",
    "print(ind)"
   ],
   "id": "2e16051cb120d546",
   "outputs": [
    {
     "name": "stdout",
     "output_type": "stream",
     "text": [
      "[1, 3, 5]\n"
     ]
    }
   ],
   "execution_count": 384
  },
  {
   "metadata": {},
   "cell_type": "markdown",
   "source": "# **Ex34**",
   "id": "e0b81864595daf3d"
  },
  {
   "metadata": {
    "ExecuteTime": {
     "end_time": "2025-02-10T07:17:15.432592Z",
     "start_time": "2025-02-10T07:17:12.159751Z"
    }
   },
   "cell_type": "code",
   "source": [
    "mylist = [1,2,3,4,5,6]\n",
    "n = int(input('number of rotation: '))\n",
    "print(mylist[-n:]+mylist[:-n])"
   ],
   "id": "4673ff880c3551e5",
   "outputs": [
    {
     "name": "stdout",
     "output_type": "stream",
     "text": [
      "[3, 4, 5, 6, 1, 2]\n"
     ]
    }
   ],
   "execution_count": 278
  },
  {
   "metadata": {},
   "cell_type": "markdown",
   "source": "# **Ex35**",
   "id": "ba8b527ad19a3626"
  },
  {
   "metadata": {
    "ExecuteTime": {
     "end_time": "2025-02-10T07:24:10.290333Z",
     "start_time": "2025-02-10T07:24:04.720099Z"
    }
   },
   "cell_type": "code",
   "source": [
    "start = int(input('start of the range: '))\n",
    "end = int(input('end of the range: '))\n",
    "print(list(range(start, end+1 )))"
   ],
   "id": "3beae647d411753b",
   "outputs": [
    {
     "name": "stdout",
     "output_type": "stream",
     "text": [
      "[2, 3, 4, 5, 6, 7, 8, 9, 10]\n"
     ]
    }
   ],
   "execution_count": 283
  },
  {
   "metadata": {},
   "cell_type": "markdown",
   "source": "# **Ex36**",
   "id": "55c286c8ae99f775"
  },
  {
   "metadata": {
    "ExecuteTime": {
     "end_time": "2025-02-10T07:40:02.430421Z",
     "start_time": "2025-02-10T07:39:52.802346Z"
    }
   },
   "cell_type": "code",
   "source": [
    "num = input('enter the numbers: ').split()\n",
    "positive = []\n",
    "for x in num:\n",
    "    if int(x)>0:\n",
    "        positive.append(int(x))\n",
    "print(sum(positive))"
   ],
   "id": "6a6f0ec6b965ca0d",
   "outputs": [
    {
     "name": "stdout",
     "output_type": "stream",
     "text": [
      "91\n"
     ]
    }
   ],
   "execution_count": 287
  },
  {
   "metadata": {},
   "cell_type": "markdown",
   "source": "# **Ex37**",
   "id": "3e8a66efde8c77be"
  },
  {
   "metadata": {
    "ExecuteTime": {
     "end_time": "2025-02-10T07:41:14.848338Z",
     "start_time": "2025-02-10T07:40:56.041546Z"
    }
   },
   "cell_type": "code",
   "source": [
    "num = input('enter the numbers: ').split()\n",
    "negative = []\n",
    "for x in num:\n",
    "    if int(x)<0:\n",
    "        negative.append(int(x))\n",
    "print(sum(negative))"
   ],
   "id": "95dc6d83e44c8ed8",
   "outputs": [
    {
     "name": "stdout",
     "output_type": "stream",
     "text": [
      "-16\n"
     ]
    }
   ],
   "execution_count": 288
  },
  {
   "metadata": {},
   "cell_type": "markdown",
   "source": "# **Ex38**",
   "id": "91fea12110de4d6"
  },
  {
   "metadata": {
    "ExecuteTime": {
     "end_time": "2025-02-10T07:44:04.450475Z",
     "start_time": "2025-02-10T07:43:55.310931Z"
    }
   },
   "cell_type": "code",
   "source": [
    "mylist = input('enter the list: ').split()\n",
    "mylist == mylist[::-1]"
   ],
   "id": "4e4e1d6ea4816a3c",
   "outputs": [
    {
     "data": {
      "text/plain": [
       "True"
      ]
     },
     "execution_count": 292,
     "metadata": {},
     "output_type": "execute_result"
    }
   ],
   "execution_count": 292
  },
  {
   "metadata": {},
   "cell_type": "markdown",
   "source": "# **Ex39**",
   "id": "a442dcdc16f2996"
  },
  {
   "metadata": {
    "ExecuteTime": {
     "end_time": "2025-02-10T08:09:24.302824Z",
     "start_time": "2025-02-10T08:09:07.392078Z"
    }
   },
   "cell_type": "code",
   "source": [
    "mylist = input('enter the elements: ').split()\n",
    "n = int(input('enter the number of elements in sublist: '))\n",
    "new_list = []\n",
    "for x in range(0, len(mylist), n):\n",
    "    new_list.append(mylist[x:x +n])\n",
    "print(new_list)"
   ],
   "id": "54cb3686b6c134b8",
   "outputs": [
    {
     "name": "stdout",
     "output_type": "stream",
     "text": [
      "[['jdb', '90', '820'], ['jdbb', '3', '2'], ['1', '3', '4'], ['1', '3']]\n"
     ]
    }
   ],
   "execution_count": 301
  },
  {
   "metadata": {},
   "cell_type": "markdown",
   "source": "# **Ex40**",
   "id": "996e35da3578b373"
  },
  {
   "metadata": {
    "ExecuteTime": {
     "end_time": "2025-02-10T09:14:25.738143Z",
     "start_time": "2025-02-10T09:14:25.735984Z"
    }
   },
   "cell_type": "code",
   "source": [
    "mylist = ['d', 'c', 'x', 'd', 'g', 'a', 'b', 'a', 'b', 'x']\n",
    "print(list(dict.fromkeys(mylist)))"
   ],
   "id": "fc51dcd13642c07b",
   "outputs": [
    {
     "name": "stdout",
     "output_type": "stream",
     "text": [
      "['d', 'c', 'x', 'g', 'a', 'b']\n"
     ]
    }
   ],
   "execution_count": 383
  }
 ],
 "metadata": {
  "kernelspec": {
   "display_name": "Python 3",
   "language": "python",
   "name": "python3"
  },
  "language_info": {
   "codemirror_mode": {
    "name": "ipython",
    "version": 2
   },
   "file_extension": ".py",
   "mimetype": "text/x-python",
   "name": "python",
   "nbconvert_exporter": "python",
   "pygments_lexer": "ipython2",
   "version": "2.7.6"
  }
 },
 "nbformat": 4,
 "nbformat_minor": 5
}

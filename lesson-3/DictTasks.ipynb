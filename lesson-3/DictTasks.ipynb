{
 "cells": [
  {
   "metadata": {},
   "cell_type": "markdown",
   "source": "# **Ex1**",
   "id": "ea0211b276ad7fa5"
  },
  {
   "cell_type": "code",
   "id": "initial_id",
   "metadata": {
    "collapsed": true,
    "ExecuteTime": {
     "end_time": "2025-02-12T11:50:35.361142Z",
     "start_time": "2025-02-12T11:50:28.873772Z"
    }
   },
   "source": [
    "dic = {'olma': 'apple',\n",
    "       'uzum': 'grape',\n",
    "       'sabzi': 'carrot',\n",
    "       'gilos': 'cherry'}\n",
    "\n",
    "key = input('enter the key: ')\n",
    "print(dic.get(key, 'key is not found'))"
   ],
   "outputs": [
    {
     "name": "stdout",
     "output_type": "stream",
     "text": [
      "carrot\n"
     ]
    }
   ],
   "execution_count": 133
  },
  {
   "metadata": {},
   "cell_type": "markdown",
   "source": "# **Ex2**",
   "id": "3013ade60c55a54e"
  },
  {
   "metadata": {
    "ExecuteTime": {
     "end_time": "2025-02-11T18:25:41.393090Z",
     "start_time": "2025-02-11T18:25:37.236288Z"
    }
   },
   "cell_type": "code",
   "source": [
    "dic = {'olma': 'apple',\n",
    "       'uzum': 'grape',\n",
    "       'sabzi': 'carrot',\n",
    "       'gilos': 'cherry'}\n",
    "key = input('enter the key: ')\n",
    "key in dic"
   ],
   "id": "de699d6cdcdf1642",
   "outputs": [
    {
     "data": {
      "text/plain": [
       "True"
      ]
     },
     "execution_count": 3,
     "metadata": {},
     "output_type": "execute_result"
    }
   ],
   "execution_count": 3
  },
  {
   "metadata": {},
   "cell_type": "markdown",
   "source": "# **Ex3**",
   "id": "36985a697a2cf698"
  },
  {
   "metadata": {
    "ExecuteTime": {
     "end_time": "2025-02-12T06:23:41.017568Z",
     "start_time": "2025-02-12T06:23:41.014774Z"
    }
   },
   "cell_type": "code",
   "source": [
    "dic = {'olma': 'apple',\n",
    "       'uzum': 'grape',\n",
    "       'sabzi': 'carrot',\n",
    "       'gilos': 'cherry'}\n",
    "print(len(dic.keys()))"
   ],
   "id": "f2b8cd28fba29495",
   "outputs": [
    {
     "name": "stdout",
     "output_type": "stream",
     "text": [
      "4\n"
     ]
    }
   ],
   "execution_count": 6
  },
  {
   "metadata": {},
   "cell_type": "markdown",
   "source": "# **Ex4**",
   "id": "ba4e86d64fb6b3b"
  },
  {
   "metadata": {
    "ExecuteTime": {
     "end_time": "2025-02-12T06:24:39.011966Z",
     "start_time": "2025-02-12T06:24:39.009005Z"
    }
   },
   "cell_type": "code",
   "source": [
    "dic = {'olma': 'apple',\n",
    "       'uzum': 'grape',\n",
    "       'sabzi': 'carrot',\n",
    "       'gilos': 'cherry'}\n",
    "print(list(dic.keys()))"
   ],
   "id": "f321d531992b1035",
   "outputs": [
    {
     "name": "stdout",
     "output_type": "stream",
     "text": [
      "['olma', 'uzum', 'sabzi', 'gilos']\n"
     ]
    }
   ],
   "execution_count": 8
  },
  {
   "metadata": {},
   "cell_type": "markdown",
   "source": "# **Ex5**",
   "id": "36b343d5dd18dcce"
  },
  {
   "metadata": {
    "ExecuteTime": {
     "end_time": "2025-02-12T06:25:25.660059Z",
     "start_time": "2025-02-12T06:25:25.655692Z"
    }
   },
   "cell_type": "code",
   "source": [
    "dic = {'olma': 'apple',\n",
    "       'uzum': 'grape',\n",
    "       'sabzi': 'carrot',\n",
    "       'gilos': 'cherry'}\n",
    "print(list(dic.values()))"
   ],
   "id": "f5edd928e3fcdb40",
   "outputs": [
    {
     "name": "stdout",
     "output_type": "stream",
     "text": [
      "['apple', 'grape', 'carrot', 'cherry']\n"
     ]
    }
   ],
   "execution_count": 9
  },
  {
   "metadata": {},
   "cell_type": "markdown",
   "source": "# **Ex6**",
   "id": "f1eaa81a48077a2d"
  },
  {
   "metadata": {
    "ExecuteTime": {
     "end_time": "2025-02-12T06:28:26.214326Z",
     "start_time": "2025-02-12T06:28:26.211734Z"
    }
   },
   "cell_type": "code",
   "source": [
    "dic1 = {'olma': 'apple',\n",
    "       'uzum': 'grape',\n",
    "       'sabzi': 'carrot',\n",
    "       'gilos': 'cherry'}\n",
    "\n",
    "dic2 = {'name': 'John',\n",
    "        'sname': 'Ake',\n",
    "        'age': '40'}\n",
    "\n",
    "dic1.update(dic2)\n",
    "print(dic1)"
   ],
   "id": "c3d5f02a8ab24a6b",
   "outputs": [
    {
     "name": "stdout",
     "output_type": "stream",
     "text": [
      "{'olma': 'apple', 'uzum': 'grape', 'sabzi': 'carrot', 'gilos': 'cherry', 'name': 'John', 'sname': 'Ake', 'age': '40'}\n"
     ]
    }
   ],
   "execution_count": 12
  },
  {
   "metadata": {},
   "cell_type": "markdown",
   "source": "# **Ex7**",
   "id": "8c6c897afacb7c93"
  },
  {
   "metadata": {
    "ExecuteTime": {
     "end_time": "2025-02-12T11:51:21.431286Z",
     "start_time": "2025-02-12T11:51:16.151472Z"
    }
   },
   "cell_type": "code",
   "source": [
    "dic1 = {'olma': 'apple',\n",
    "       'uzum': 'grape',\n",
    "       'sabzi': 'carrot',\n",
    "       'gilos': 'cherry'}\n",
    "y = input('enter the key: ')\n",
    "x = (dic1.pop(y, 'key not found'))\n",
    "print(f'new dictionary is: {dic1} \\nThe value: {x}')\n"
   ],
   "id": "714249ecf969095b",
   "outputs": [
    {
     "name": "stdout",
     "output_type": "stream",
     "text": [
      "new dictionary is: {'olma': 'apple', 'sabzi': 'carrot', 'gilos': 'cherry'} \n",
      "The value: grape\n"
     ]
    }
   ],
   "execution_count": 134
  },
  {
   "metadata": {},
   "cell_type": "markdown",
   "source": "# **Ex8**",
   "id": "d84c60e7c5cd407f"
  },
  {
   "metadata": {
    "ExecuteTime": {
     "end_time": "2025-02-12T07:19:45.943110Z",
     "start_time": "2025-02-12T07:19:45.938171Z"
    }
   },
   "cell_type": "code",
   "source": [
    "dic1 = {'olma': 'apple',\n",
    "       'uzum': 'grape',\n",
    "       'sabzi': 'carrot',\n",
    "       'gilos': 'cherry'}\n",
    "dic1.clear()\n",
    "print(dic1)"
   ],
   "id": "8818a6fb65a6f61b",
   "outputs": [
    {
     "name": "stdout",
     "output_type": "stream",
     "text": [
      "{}\n"
     ]
    }
   ],
   "execution_count": 20
  },
  {
   "metadata": {},
   "cell_type": "markdown",
   "source": "# **Ex9**",
   "id": "e51050ca8e2deca7"
  },
  {
   "metadata": {
    "ExecuteTime": {
     "end_time": "2025-02-12T11:51:34.603192Z",
     "start_time": "2025-02-12T11:51:34.600977Z"
    }
   },
   "cell_type": "code",
   "source": [
    "dic1 = {'olma': 'apple',\n",
    "       'uzum': 'grape',\n",
    "       'sabzi': 'carrot',\n",
    "       'gilos': 'cherry'}\n",
    "if dic1:\n",
    "    print('It has elements')\n",
    "else:\n",
    "    print('it is empty')"
   ],
   "id": "55a98d1952666665",
   "outputs": [
    {
     "name": "stdout",
     "output_type": "stream",
     "text": [
      "It has elements\n"
     ]
    }
   ],
   "execution_count": 135
  },
  {
   "metadata": {},
   "cell_type": "markdown",
   "source": "# **Ex10**",
   "id": "1f9b47e9b01e4b1d"
  },
  {
   "metadata": {
    "ExecuteTime": {
     "end_time": "2025-02-12T11:51:39.663691Z",
     "start_time": "2025-02-12T11:51:39.661665Z"
    }
   },
   "cell_type": "code",
   "source": [
    "dic1 = {'olma': 'apple',\n",
    "       'uzum': 'grape',\n",
    "       'sabzi': 'carrot',\n",
    "       'gilos': 'cherry'}\n",
    "print(dic1.items())"
   ],
   "id": "7a3fed650edf04ef",
   "outputs": [
    {
     "name": "stdout",
     "output_type": "stream",
     "text": [
      "dict_items([('olma', 'apple'), ('uzum', 'grape'), ('sabzi', 'carrot'), ('gilos', 'cherry')])\n"
     ]
    }
   ],
   "execution_count": 138
  },
  {
   "metadata": {},
   "cell_type": "markdown",
   "source": "# **Ex11**",
   "id": "a48bc3714cf9b22b"
  },
  {
   "metadata": {
    "ExecuteTime": {
     "end_time": "2025-02-12T11:51:51.183666Z",
     "start_time": "2025-02-12T11:51:51.181982Z"
    }
   },
   "cell_type": "code",
   "source": [
    "dic = {'olma': 'apple',\n",
    "       'uzum': 'grape',\n",
    "       'sabzi': 'carrot',\n",
    "       'gilos': 'cherry'}\n",
    "dic.update({'uzum': 'x'})\n",
    "print(dic)"
   ],
   "id": "5e920b5da2bf29b",
   "outputs": [
    {
     "name": "stdout",
     "output_type": "stream",
     "text": [
      "{'olma': 'apple', 'uzum': 'x', 'sabzi': 'carrot', 'gilos': 'cherry'}\n"
     ]
    }
   ],
   "execution_count": 142
  },
  {
   "metadata": {},
   "cell_type": "markdown",
   "source": "# **Ex12**",
   "id": "abbc94997f6eca1"
  },
  {
   "metadata": {
    "ExecuteTime": {
     "end_time": "2025-02-12T11:52:07.285269Z",
     "start_time": "2025-02-12T11:52:07.282614Z"
    }
   },
   "cell_type": "code",
   "source": [
    "dic = {'olma': 'apple',\n",
    "       'uzum': 'x',\n",
    "       'sabzi': 'x',\n",
    "       'gilos': 'cherry'}\n",
    "x = dic.values()\n",
    "print(list(x).count('x'))"
   ],
   "id": "113164867acd9027",
   "outputs": [
    {
     "name": "stdout",
     "output_type": "stream",
     "text": [
      "2\n"
     ]
    }
   ],
   "execution_count": 155
  },
  {
   "metadata": {},
   "cell_type": "markdown",
   "source": "# **Ex13**",
   "id": "e5c34b103fe69b30"
  },
  {
   "metadata": {
    "ExecuteTime": {
     "end_time": "2025-02-12T11:52:14.386763Z",
     "start_time": "2025-02-12T11:52:14.384791Z"
    }
   },
   "cell_type": "code",
   "source": [
    "dic1 = {'olma': 'apple',\n",
    "       'uzum': 'x',\n",
    "       'sabzi': 'x',\n",
    "       'gilos': 'cherry'}\n",
    "dic2 = {}\n",
    "\n",
    "for k,v in dic1.items():\n",
    "    dic2[v] = dic2.get(v, []) + [k]\n",
    "print(dic2)"
   ],
   "id": "bdc10b4d315b6574",
   "outputs": [
    {
     "name": "stdout",
     "output_type": "stream",
     "text": [
      "{'apple': ['olma'], 'x': ['uzum', 'sabzi'], 'cherry': ['gilos']}\n"
     ]
    }
   ],
   "execution_count": 160
  },
  {
   "metadata": {},
   "cell_type": "markdown",
   "source": "# **Ex14**",
   "id": "1e69e2ff35cc1d6c"
  },
  {
   "metadata": {
    "ExecuteTime": {
     "end_time": "2025-02-12T11:53:02.712848Z",
     "start_time": "2025-02-12T11:53:00.104741Z"
    }
   },
   "cell_type": "code",
   "source": [
    "dic1 = {'olma': 'apple',\n",
    "       'uzum': 'x',\n",
    "       'sabzi': 'x',\n",
    "       'gilos': 'cherry'}\n",
    "val = input('enter the value: ')\n",
    "\n",
    "keys = [k for k , v in dic1.items() if v == val]\n",
    "print(keys)"
   ],
   "id": "447e8d075f97f075",
   "outputs": [
    {
     "name": "stdout",
     "output_type": "stream",
     "text": [
      "['uzum', 'sabzi']\n"
     ]
    }
   ],
   "execution_count": 162
  },
  {
   "metadata": {},
   "cell_type": "markdown",
   "source": "# **Ex15**",
   "id": "9ae27c3f2275b48f"
  },
  {
   "metadata": {
    "ExecuteTime": {
     "end_time": "2025-02-12T11:53:11.155188Z",
     "start_time": "2025-02-12T11:53:11.152930Z"
    }
   },
   "cell_type": "code",
   "source": [
    "keys = ['A', 'b', 'c', 'd', 'e']\n",
    "values = [90, 80, 70, 60, 50]\n",
    "print(dict(zip(keys, values)))"
   ],
   "id": "699b56de22d8ee53",
   "outputs": [
    {
     "name": "stdout",
     "output_type": "stream",
     "text": [
      "{'A': 90, 'b': 80, 'c': 70, 'd': 60, 'e': 50}\n"
     ]
    }
   ],
   "execution_count": 165
  },
  {
   "metadata": {},
   "cell_type": "markdown",
   "source": "# **Ex16**",
   "id": "2b9100fa59c82b2c"
  },
  {
   "metadata": {
    "ExecuteTime": {
     "end_time": "2025-02-12T11:53:21.916383Z",
     "start_time": "2025-02-12T11:53:21.914223Z"
    }
   },
   "cell_type": "code",
   "source": [
    "dic1 = {'olma': 'apple', 'uzum': {'color': 'green', 'taste': 'sweet'}, 'sabzi': 'carrot'}\n",
    "\n",
    "if any(isinstance(value, dict) for value in dic1.values()):\n",
    "    print(\"There is a nested dictionary\")\n",
    "else:\n",
    "    print(\"There are no nested dictionaries\")"
   ],
   "id": "144780ef1aa37402",
   "outputs": [
    {
     "name": "stdout",
     "output_type": "stream",
     "text": [
      "There is a nested dictionary\n"
     ]
    }
   ],
   "execution_count": 168
  },
  {
   "metadata": {},
   "cell_type": "markdown",
   "source": "# **Ex17**",
   "id": "7ce8ef21b7f3189b"
  },
  {
   "metadata": {
    "ExecuteTime": {
     "end_time": "2025-02-12T11:53:34.408577Z",
     "start_time": "2025-02-12T11:53:34.406360Z"
    }
   },
   "cell_type": "code",
   "source": [
    "nested_dic = {\n",
    "    'fruit': {\n",
    "        'olma': 'apple',\n",
    "        'uzum': 'grape'\n",
    "    },\n",
    "    'vegetable': {\n",
    "        'sabzi': 'carrot',\n",
    "        'gilos': 'cherry'\n",
    "    }\n",
    "}\n",
    "\n",
    "print(nested_dic['fruit']['olma'])"
   ],
   "id": "7062d1ee1fc9e81d",
   "outputs": [
    {
     "name": "stdout",
     "output_type": "stream",
     "text": [
      "apple\n"
     ]
    }
   ],
   "execution_count": 173
  },
  {
   "metadata": {},
   "cell_type": "markdown",
   "source": "# **Ex18**",
   "id": "9038a3c27fd6654c"
  },
  {
   "metadata": {
    "ExecuteTime": {
     "end_time": "2025-02-12T11:54:01.992311Z",
     "start_time": "2025-02-12T11:54:00.304052Z"
    }
   },
   "cell_type": "code",
   "source": [
    "my_dict = {'a': 1, 'b': 2}\n",
    "key = input('enter the key')\n",
    "print(my_dict.get(key, 'Default Value'))\n"
   ],
   "id": "f6a55caa65ce00bd",
   "outputs": [
    {
     "name": "stdout",
     "output_type": "stream",
     "text": [
      "Default Value\n"
     ]
    }
   ],
   "execution_count": 176
  },
  {
   "metadata": {},
   "cell_type": "markdown",
   "source": "# **Ex19**",
   "id": "865153b5ed465fe4"
  },
  {
   "metadata": {
    "ExecuteTime": {
     "end_time": "2025-02-12T11:53:44.541567Z",
     "start_time": "2025-02-12T11:53:44.539335Z"
    }
   },
   "cell_type": "code",
   "source": [
    "dic = {'olma': 'apple', 'uzum': 's', 'sabzi': 'carrot'}\n",
    "print(len(set(dic)))"
   ],
   "id": "fe683539c1b8832c",
   "outputs": [
    {
     "name": "stdout",
     "output_type": "stream",
     "text": [
      "3\n"
     ]
    }
   ],
   "execution_count": 175
  },
  {
   "metadata": {},
   "cell_type": "markdown",
   "source": "# **Ex20**",
   "id": "a804ada8997f068c"
  },
  {
   "metadata": {
    "ExecuteTime": {
     "end_time": "2025-02-12T11:21:30.501809Z",
     "start_time": "2025-02-12T11:21:30.497922Z"
    }
   },
   "cell_type": "code",
   "source": [
    "dic = {'olma': 'apple', 'uzum': 's', 'sabzi': 'carrot'}\n",
    "print(dict(sorted(dic.items())))"
   ],
   "id": "985ef87fc672bf7e",
   "outputs": [
    {
     "name": "stdout",
     "output_type": "stream",
     "text": [
      "{'olma': 'apple', 'sabzi': 'carrot', 'uzum': 's'}\n"
     ]
    }
   ],
   "execution_count": 71
  },
  {
   "metadata": {},
   "cell_type": "markdown",
   "source": "# **Ex21**",
   "id": "62a53fdcdfdbf932"
  },
  {
   "metadata": {
    "ExecuteTime": {
     "end_time": "2025-02-12T11:54:44.752705Z",
     "start_time": "2025-02-12T11:54:44.749949Z"
    }
   },
   "cell_type": "code",
   "source": [
    "dic = {'uzum': 'grape', 'sabzi': 'carrot','olma': 'apple', 'gilos': 'cherry'}\n",
    "print(dict(sorted(dic.items(), key=lambda item: item[1])))\n"
   ],
   "id": "c20224cfeaac0536",
   "outputs": [
    {
     "name": "stdout",
     "output_type": "stream",
     "text": [
      "{'olma': 'apple', 'sabzi': 'carrot', 'gilos': 'cherry', 'uzum': 'grape'}\n"
     ]
    }
   ],
   "execution_count": 181
  },
  {
   "metadata": {},
   "cell_type": "markdown",
   "source": "# **Ex22**",
   "id": "f8babb543de0f17e"
  },
  {
   "metadata": {
    "ExecuteTime": {
     "end_time": "2025-02-12T11:55:09.665368Z",
     "start_time": "2025-02-12T11:55:09.662845Z"
    }
   },
   "cell_type": "code",
   "source": [
    "dic = {'olma': 'apple', 'uzum': 'grape', 'sabzi': 'carrot', 'gilos': 'cherry'}\n",
    "print(dict(filter(lambda item: item[1] in ['apple', 'cherry'], dic.items())))\n"
   ],
   "id": "596a148f8822d678",
   "outputs": [
    {
     "name": "stdout",
     "output_type": "stream",
     "text": [
      "{'olma': 'apple', 'gilos': 'cherry'}\n"
     ]
    }
   ],
   "execution_count": 186
  },
  {
   "metadata": {},
   "cell_type": "markdown",
   "source": "# **Ex23**",
   "id": "f083aeac36b1d45b"
  },
  {
   "metadata": {
    "ExecuteTime": {
     "end_time": "2025-02-12T11:55:23.323201Z",
     "start_time": "2025-02-12T11:55:23.318502Z"
    }
   },
   "cell_type": "code",
   "source": [
    "dic1 = {'a': 90, 'b': 85, 'c': 70, 'd':60}\n",
    "dic2 = {'a': 90, 'b': 80, 'c': 70, 'd': 65}\n",
    "if set(dic1) & set(dic2):\n",
    "    print('They have common keys')\n",
    "else:\n",
    "    print('they do not have common keys')"
   ],
   "id": "d693df4477a56286",
   "outputs": [
    {
     "name": "stdout",
     "output_type": "stream",
     "text": [
      "They have common keys\n"
     ]
    }
   ],
   "execution_count": 187
  },
  {
   "metadata": {},
   "cell_type": "markdown",
   "source": "# **Ex24**",
   "id": "fee907aea14b674f"
  },
  {
   "metadata": {
    "ExecuteTime": {
     "end_time": "2025-02-12T11:55:28.764170Z",
     "start_time": "2025-02-12T11:55:28.761287Z"
    }
   },
   "cell_type": "code",
   "source": [
    "dic = (('olma', 'apple'), ('uzum', 'grape'), ('sabzi', 'carrot'), ('gilos', 'cherry'))\n",
    "print(dict(dic))"
   ],
   "id": "6b754140c6763901",
   "outputs": [
    {
     "name": "stdout",
     "output_type": "stream",
     "text": [
      "{'olma': 'apple', 'uzum': 'grape', 'sabzi': 'carrot', 'gilos': 'cherry'}\n"
     ]
    }
   ],
   "execution_count": 188
  },
  {
   "metadata": {},
   "cell_type": "markdown",
   "source": "# **Ex25**",
   "id": "95eb132171f43b0"
  },
  {
   "metadata": {
    "ExecuteTime": {
     "end_time": "2025-02-12T11:55:42.091914Z",
     "start_time": "2025-02-12T11:55:42.089054Z"
    }
   },
   "cell_type": "code",
   "source": [
    "dic = (('olma', 'apple'), ('uzum', 'grape'), ('sabzi', 'carrot'), ('gilos', 'cherry'))\n",
    "print(list(dic)[0])"
   ],
   "id": "9515dea9a767a328",
   "outputs": [
    {
     "name": "stdout",
     "output_type": "stream",
     "text": [
      "('olma', 'apple')\n"
     ]
    }
   ],
   "execution_count": 189
  }
 ],
 "metadata": {
  "kernelspec": {
   "display_name": "Python 3",
   "language": "python",
   "name": "python3"
  },
  "language_info": {
   "codemirror_mode": {
    "name": "ipython",
    "version": 2
   },
   "file_extension": ".py",
   "mimetype": "text/x-python",
   "name": "python",
   "nbconvert_exporter": "python",
   "pygments_lexer": "ipython2",
   "version": "2.7.6"
  }
 },
 "nbformat": 4,
 "nbformat_minor": 5
}

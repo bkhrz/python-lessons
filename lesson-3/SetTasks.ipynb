{
 "cells": [
  {
   "metadata": {},
   "cell_type": "markdown",
   "source": "# **Ex1**",
   "id": "33bd72caf1a34391"
  },
  {
   "metadata": {
    "ExecuteTime": {
     "end_time": "2025-02-10T18:47:35.478667Z",
     "start_time": "2025-02-10T18:47:35.475868Z"
    }
   },
   "cell_type": "code",
   "source": [
    "s1 ={1, 2, 2, 3, 4,5, 5}\n",
    "s2 ={2, 3, 5, 5, 6, 7, 7}\n",
    "print(s1.union(s2))"
   ],
   "id": "71bd75c4129943a7",
   "outputs": [
    {
     "name": "stdout",
     "output_type": "stream",
     "text": [
      "{1, 2, 3, 4, 5, 6, 7}\n"
     ]
    }
   ],
   "execution_count": 1
  },
  {
   "metadata": {
    "ExecuteTime": {
     "end_time": "2025-02-10T18:49:30.908557Z",
     "start_time": "2025-02-10T18:49:30.902368Z"
    }
   },
   "cell_type": "code",
   "source": [
    "s1 ={1, 2, 2, 3, 4,5, 5}\n",
    "s2 ={2, 3, 5, 5, 6, 7, 7}\n",
    "print(s1 | s2)"
   ],
   "id": "e0c717324a72d546",
   "outputs": [
    {
     "name": "stdout",
     "output_type": "stream",
     "text": [
      "{1, 2, 3, 4, 5, 6, 7}\n"
     ]
    }
   ],
   "execution_count": 2
  },
  {
   "metadata": {},
   "cell_type": "markdown",
   "source": "# **Ex2**",
   "id": "dc3d06d79ec222fc"
  },
  {
   "metadata": {
    "ExecuteTime": {
     "end_time": "2025-02-10T18:58:32.929344Z",
     "start_time": "2025-02-10T18:58:32.923107Z"
    }
   },
   "cell_type": "code",
   "source": [
    "s1 = {'apple', 'cherry', 'melon'}\n",
    "s2 = {'strawberry', 'apple', 'banana'}\n",
    "print(s1.intersection(s2))"
   ],
   "id": "f7f64c414fd1337d",
   "outputs": [
    {
     "name": "stdout",
     "output_type": "stream",
     "text": [
      "{'apple'}\n"
     ]
    }
   ],
   "execution_count": 3
  },
  {
   "metadata": {
    "ExecuteTime": {
     "end_time": "2025-02-10T18:58:58.227229Z",
     "start_time": "2025-02-10T18:58:58.223666Z"
    }
   },
   "cell_type": "code",
   "source": [
    "s1 = {'apple', 'cherry', 'melon'}\n",
    "s2 = {'strawberry', 'apple', 'banana'}\n",
    "print(s1 & s2)"
   ],
   "id": "f08fe190bab8f223",
   "outputs": [
    {
     "name": "stdout",
     "output_type": "stream",
     "text": [
      "{'apple'}\n"
     ]
    }
   ],
   "execution_count": 4
  },
  {
   "metadata": {},
   "cell_type": "markdown",
   "source": "# **Ex3**",
   "id": "72a9dfb168be2e9f"
  },
  {
   "metadata": {
    "ExecuteTime": {
     "end_time": "2025-02-10T19:01:49.069383Z",
     "start_time": "2025-02-10T19:01:49.065474Z"
    }
   },
   "cell_type": "code",
   "source": [
    "s1 = {'apple', 'cherry', 'melon'}\n",
    "s2 = {'strawberry', 'apple', 'banana'}\n",
    "print(s1.difference(s2))"
   ],
   "id": "17abd95e9ad7bd1d",
   "outputs": [
    {
     "name": "stdout",
     "output_type": "stream",
     "text": [
      "{'cherry', 'melon'}\n"
     ]
    }
   ],
   "execution_count": 7
  },
  {
   "metadata": {
    "ExecuteTime": {
     "end_time": "2025-02-10T19:02:38.190893Z",
     "start_time": "2025-02-10T19:02:38.187782Z"
    }
   },
   "cell_type": "code",
   "source": [
    "s1 = {'apple', 'cherry', 'melon'}\n",
    "s2 = {'strawberry', 'apple', 'banana'}\n",
    "print(s1 - s2)"
   ],
   "id": "27a6f84746eceb03",
   "outputs": [
    {
     "name": "stdout",
     "output_type": "stream",
     "text": [
      "{'cherry', 'melon'}\n"
     ]
    }
   ],
   "execution_count": 9
  },
  {
   "metadata": {},
   "cell_type": "markdown",
   "source": "# **Ex4**",
   "id": "73528930ea07df6f"
  },
  {
   "metadata": {
    "ExecuteTime": {
     "end_time": "2025-02-11T07:35:08.153944Z",
     "start_time": "2025-02-11T07:35:08.150519Z"
    }
   },
   "cell_type": "code",
   "source": [
    "s1 = {\"a\", \"b\", 'c'}\n",
    "s2 = {\"b\"}\n",
    "s2.issubset(s1)"
   ],
   "id": "2602744e03827f68",
   "outputs": [
    {
     "data": {
      "text/plain": [
       "True"
      ]
     },
     "execution_count": 64,
     "metadata": {},
     "output_type": "execute_result"
    }
   ],
   "execution_count": 64
  },
  {
   "metadata": {
    "ExecuteTime": {
     "end_time": "2025-02-11T07:35:10.164734Z",
     "start_time": "2025-02-11T07:35:10.161812Z"
    }
   },
   "cell_type": "code",
   "source": [
    "s1 = {\"a\", \"b\", 'c'}\n",
    "s2 = {\"b\"}\n",
    "s2 <= s1"
   ],
   "id": "53ea3a676a961cd6",
   "outputs": [
    {
     "data": {
      "text/plain": [
       "True"
      ]
     },
     "execution_count": 70,
     "metadata": {},
     "output_type": "execute_result"
    }
   ],
   "execution_count": 70
  },
  {
   "metadata": {},
   "cell_type": "markdown",
   "source": "# **Ex5**",
   "id": "735902057f2d7158"
  },
  {
   "metadata": {
    "ExecuteTime": {
     "end_time": "2025-02-11T07:35:31.743918Z",
     "start_time": "2025-02-11T07:35:24.146870Z"
    }
   },
   "cell_type": "code",
   "source": [
    "my_set = set(input('enter the set: ').split())\n",
    "item = input('enter the item you want to check: ')\n",
    "item in my_set"
   ],
   "id": "2c3c6eea866dc59b",
   "outputs": [
    {
     "data": {
      "text/plain": [
       "True"
      ]
     },
     "execution_count": 72,
     "metadata": {},
     "output_type": "execute_result"
    }
   ],
   "execution_count": 72
  },
  {
   "metadata": {},
   "cell_type": "markdown",
   "source": "# **Ex6**",
   "id": "93c1c869b34f9443"
  },
  {
   "metadata": {
    "ExecuteTime": {
     "end_time": "2025-02-11T03:08:20.446902Z",
     "start_time": "2025-02-11T03:08:09.367629Z"
    }
   },
   "cell_type": "code",
   "source": [
    "my_set = set(input('enter the set: ').split())\n",
    "print(len(my_set))"
   ],
   "id": "57b07eeaecbdc3dd",
   "outputs": [
    {
     "name": "stdout",
     "output_type": "stream",
     "text": [
      "3\n"
     ]
    }
   ],
   "execution_count": 25
  },
  {
   "metadata": {},
   "cell_type": "markdown",
   "source": "# **Ex7**",
   "id": "ed1ecc5b94b63310"
  },
  {
   "metadata": {
    "ExecuteTime": {
     "end_time": "2025-02-11T03:09:53.146328Z",
     "start_time": "2025-02-11T03:09:46.262721Z"
    }
   },
   "cell_type": "code",
   "source": [
    "my_set = set(input('enter the set: ').split())\n",
    "print(my_set)"
   ],
   "id": "b33db3b77313aa03",
   "outputs": [
    {
     "name": "stdout",
     "output_type": "stream",
     "text": [
      "{'gre', 'er', 'ergerg', 'her'}\n"
     ]
    }
   ],
   "execution_count": 26
  },
  {
   "metadata": {},
   "cell_type": "markdown",
   "source": "# **Ex8**",
   "id": "de31147272aad973"
  },
  {
   "metadata": {
    "ExecuteTime": {
     "end_time": "2025-02-11T03:30:51.473367Z",
     "start_time": "2025-02-11T03:30:42.635924Z"
    }
   },
   "cell_type": "code",
   "source": [
    "my_set = set(input('enter the set: ').split())\n",
    "item = input('enter the item you want to remove: ')\n",
    "if item in my_set:\n",
    "    my_set.discard(item)\n",
    "    print(my_set)\n",
    "else:\n",
    "    print('the item doesn\\'t exist')"
   ],
   "id": "182921e63db1229",
   "outputs": [
    {
     "name": "stdout",
     "output_type": "stream",
     "text": [
      "{'yuo', 'dcnffc', 'hdc'}\n"
     ]
    }
   ],
   "execution_count": 29
  },
  {
   "metadata": {},
   "cell_type": "markdown",
   "source": "# **Ex9**",
   "id": "fb9e641cf954a884"
  },
  {
   "metadata": {
    "ExecuteTime": {
     "end_time": "2025-02-11T06:22:54.452838Z",
     "start_time": "2025-02-11T06:22:54.448384Z"
    }
   },
   "cell_type": "code",
   "source": [
    "s1 = {\"a\", \"b\", 'c'}\n",
    "s1.clear()\n",
    "print(s1)"
   ],
   "id": "d895dc2b4af51404",
   "outputs": [
    {
     "name": "stdout",
     "output_type": "stream",
     "text": [
      "set()\n"
     ]
    }
   ],
   "execution_count": 32
  },
  {
   "metadata": {},
   "cell_type": "markdown",
   "source": "# **Ex10**",
   "id": "85044b09cf6729f9"
  },
  {
   "metadata": {},
   "cell_type": "code",
   "outputs": [],
   "execution_count": null,
   "source": [
    "my_set = set(input('enter the set: ').split())\n",
    "if len(my_set) == 0:\n",
    "    print('The set is empty')\n",
    "else:\n",
    "    print('The list is not empty')"
   ],
   "id": "fedabaaacfb124f"
  },
  {
   "metadata": {},
   "cell_type": "markdown",
   "source": "# **Ex11**",
   "id": "73cc5aff9f1d945d"
  },
  {
   "metadata": {
    "ExecuteTime": {
     "end_time": "2025-02-11T06:29:03.594767Z",
     "start_time": "2025-02-11T06:29:03.591699Z"
    }
   },
   "cell_type": "code",
   "source": [
    "s1 = {\"a\", \"b\", 'c'}\n",
    "s2 = {\"b\", 'd', 'e'}\n",
    "print(s1.symmetric_difference(s2))"
   ],
   "id": "544a0bd2976bd9bd",
   "outputs": [
    {
     "name": "stdout",
     "output_type": "stream",
     "text": [
      "{'c', 'd', 'e', 'a'}\n"
     ]
    }
   ],
   "execution_count": 1
  },
  {
   "metadata": {
    "ExecuteTime": {
     "end_time": "2025-02-11T06:30:04.645479Z",
     "start_time": "2025-02-11T06:30:04.640734Z"
    }
   },
   "cell_type": "code",
   "source": [
    "s1 = {\"a\", \"b\", 'c'}\n",
    "s2 = {\"b\", 'd', 'e'}\n",
    "print(s1 ^ s2)"
   ],
   "id": "372b7226aec6ebe5",
   "outputs": [
    {
     "name": "stdout",
     "output_type": "stream",
     "text": [
      "{'c', 'd', 'e', 'a'}\n"
     ]
    }
   ],
   "execution_count": 2
  },
  {
   "metadata": {},
   "cell_type": "markdown",
   "source": "# **Ex12**",
   "id": "5ba54c1f501b065d"
  },
  {
   "metadata": {
    "ExecuteTime": {
     "end_time": "2025-02-11T06:32:47.274977Z",
     "start_time": "2025-02-11T06:32:37.244009Z"
    }
   },
   "cell_type": "code",
   "source": [
    "my_set = set(input('enter the set: ').split())\n",
    "item = input('enter the item you want to add: ')\n",
    "if item not in my_set:\n",
    "    my_set.add(item)\n",
    "print(my_set)"
   ],
   "id": "8ef58df6c9d1e66",
   "outputs": [
    {
     "name": "stdout",
     "output_type": "stream",
     "text": [
      "{'h', 'jeh', 'hedbh'}\n"
     ]
    }
   ],
   "execution_count": 5
  },
  {
   "metadata": {},
   "cell_type": "markdown",
   "source": "# **Ex13**",
   "id": "8419ec1f123e26a9"
  },
  {
   "metadata": {
    "ExecuteTime": {
     "end_time": "2025-02-11T06:36:46.476741Z",
     "start_time": "2025-02-11T06:36:46.474567Z"
    }
   },
   "cell_type": "code",
   "source": [
    "s1 = {\"a\", \"b\", 'c'}\n",
    "print(s1.pop())"
   ],
   "id": "677724338290b8",
   "outputs": [
    {
     "name": "stdout",
     "output_type": "stream",
     "text": [
      "b\n"
     ]
    }
   ],
   "execution_count": 13
  },
  {
   "metadata": {},
   "cell_type": "markdown",
   "source": "# **Ex14**",
   "id": "872325db6ba0853c"
  },
  {
   "metadata": {
    "ExecuteTime": {
     "end_time": "2025-02-11T06:39:45.775323Z",
     "start_time": "2025-02-11T06:39:40.079884Z"
    }
   },
   "cell_type": "code",
   "source": [
    "s = set(map(int, input('Enter the numbers: ').split()))\n",
    "print(max(s))"
   ],
   "id": "97fde3dc59d89d6f",
   "outputs": [
    {
     "name": "stdout",
     "output_type": "stream",
     "text": [
      "290\n"
     ]
    }
   ],
   "execution_count": 15
  },
  {
   "metadata": {},
   "cell_type": "markdown",
   "source": "# **Ex15**",
   "id": "ebdf29c041fdb9e0"
  },
  {
   "metadata": {},
   "cell_type": "code",
   "outputs": [],
   "execution_count": null,
   "source": [
    "s = set(map(int, input('Enter the numbers: ').split()))\n",
    "print(min(s))"
   ],
   "id": "4b4ae7aee3a52dc2"
  },
  {
   "metadata": {},
   "cell_type": "markdown",
   "source": "# **Ex16**",
   "id": "a661c19f346ec4e2"
  },
  {
   "metadata": {
    "ExecuteTime": {
     "end_time": "2025-02-11T07:39:14.832308Z",
     "start_time": "2025-02-11T07:39:08.892291Z"
    }
   },
   "cell_type": "code",
   "source": [
    "s = set(map(int, input('Enter the numbers: ').split()))\n",
    "even = []\n",
    "for x in s:\n",
    "    if x%2 == 0:\n",
    "        even.append(x)\n",
    "print(set(even))"
   ],
   "id": "56482746218ca82e",
   "outputs": [
    {
     "name": "stdout",
     "output_type": "stream",
     "text": [
      "{0, 78}\n"
     ]
    }
   ],
   "execution_count": 74
  },
  {
   "metadata": {},
   "cell_type": "markdown",
   "source": "# **Ex17**",
   "id": "2e16af4dd39e230b"
  },
  {
   "metadata": {},
   "cell_type": "code",
   "outputs": [],
   "execution_count": null,
   "source": [
    "s = set(map(int, input('Enter the numbers: ').split()))\n",
    "odd = []\n",
    "for x in s:\n",
    "    if x%2 == 1:\n",
    "        odd.append(x)\n",
    "print(set(odd))"
   ],
   "id": "ef2e91594d64ae82"
  },
  {
   "metadata": {},
   "cell_type": "markdown",
   "source": "# **Ex18**",
   "id": "4311bbb4d9e1334e"
  },
  {
   "metadata": {
    "ExecuteTime": {
     "end_time": "2025-02-11T06:47:36.656306Z",
     "start_time": "2025-02-11T06:47:28.643558Z"
    }
   },
   "cell_type": "code",
   "source": [
    "start = int(input('enter the start of the range: '))\n",
    "end = int(input('enter the end of the range: '))\n",
    "print(set(range(start, end+1)))"
   ],
   "id": "41a96d81f20010f4",
   "outputs": [
    {
     "name": "stdout",
     "output_type": "stream",
     "text": [
      "{6, 7, 8, 9, 10, 11, 12, 13, 14, 15, 16, 17, 18, 19, 20}\n"
     ]
    }
   ],
   "execution_count": 19
  },
  {
   "metadata": {},
   "cell_type": "markdown",
   "source": "# **Ex19**",
   "id": "a9c00277a48c2122"
  },
  {
   "metadata": {
    "ExecuteTime": {
     "end_time": "2025-02-11T06:49:26.892619Z",
     "start_time": "2025-02-11T06:49:26.887741Z"
    }
   },
   "cell_type": "code",
   "source": [
    "l1 = [\"a\", \"b\", 'c']\n",
    "l2 = [\"b\", 'd', 'e']\n",
    "print(set(l1+l2))"
   ],
   "id": "b977577648e53b18",
   "outputs": [
    {
     "name": "stdout",
     "output_type": "stream",
     "text": [
      "{'b', 'e', 'c', 'd', 'a'}\n"
     ]
    }
   ],
   "execution_count": 20
  },
  {
   "metadata": {},
   "cell_type": "markdown",
   "source": "# **Ex20**",
   "id": "c85d280a70358401"
  },
  {
   "metadata": {
    "ExecuteTime": {
     "end_time": "2025-02-11T07:23:09.985173Z",
     "start_time": "2025-02-11T07:23:01.896686Z"
    }
   },
   "cell_type": "code",
   "source": [
    "s1 = set(input('1-set: ').split())\n",
    "s2 = set(input('2-set: ').split())\n",
    "if s2.isdisjoint(s1):\n",
    "    print('they don\\'t have common elements')\n",
    "else:\n",
    "    print('They have common elements')"
   ],
   "id": "b3a1b28ee65cbdb9",
   "outputs": [
    {
     "name": "stdout",
     "output_type": "stream",
     "text": [
      "They have common elements\n"
     ]
    }
   ],
   "execution_count": 50
  },
  {
   "metadata": {},
   "cell_type": "markdown",
   "source": "# **Ex21**",
   "id": "485393e0d7c048b7"
  },
  {
   "metadata": {
    "ExecuteTime": {
     "end_time": "2025-02-11T07:25:48.206251Z",
     "start_time": "2025-02-11T07:25:48.204450Z"
    }
   },
   "cell_type": "code",
   "source": [
    "l = {\"a\", \"b\", 'c', \"b\", 'd', 'e', 'd', 'e'}\n",
    "print(list(set(l)))"
   ],
   "id": "d7c207450baf4aee",
   "outputs": [
    {
     "name": "stdout",
     "output_type": "stream",
     "text": [
      "['b', 'c', 'd', 'e', 'a']\n"
     ]
    }
   ],
   "execution_count": 58
  },
  {
   "metadata": {},
   "cell_type": "markdown",
   "source": "# **Ex22**",
   "id": "81e067544159deb6"
  },
  {
   "metadata": {
    "ExecuteTime": {
     "end_time": "2025-02-11T07:26:44.609775Z",
     "start_time": "2025-02-11T07:26:44.601383Z"
    }
   },
   "cell_type": "code",
   "source": [
    "l = {\"a\", \"b\", 'c', \"b\", 'd', 'e', 'd', 'e'}\n",
    "print(len(set(l)))"
   ],
   "id": "5589d5cf7f66ca8c",
   "outputs": [
    {
     "name": "stdout",
     "output_type": "stream",
     "text": [
      "5\n"
     ]
    }
   ],
   "execution_count": 59
  },
  {
   "metadata": {},
   "cell_type": "markdown",
   "source": "# **Ex23**",
   "id": "8e9faca6a1552d7a"
  },
  {
   "metadata": {
    "ExecuteTime": {
     "end_time": "2025-02-11T07:33:30.372895Z",
     "start_time": "2025-02-11T07:33:23.419352Z"
    }
   },
   "cell_type": "code",
   "source": [
    "import random\n",
    "\n",
    "start = int(input('enter the start of the range: '))\n",
    "end = int(input('enter the end of the range: '))\n",
    "num = int(input('enter the number of samples: '))\n",
    "\n",
    "print(set(random.sample(range(start, end), num)))"
   ],
   "id": "d64f84531f52ac10",
   "outputs": [
    {
     "name": "stdout",
     "output_type": "stream",
     "text": [
      "{34, 37, 39, 7, 11, 14, 15, 16, 22, 29}\n"
     ]
    }
   ],
   "execution_count": 61
  }
 ],
 "metadata": {
  "kernelspec": {
   "display_name": "Python 3",
   "language": "python",
   "name": "python3"
  },
  "language_info": {
   "codemirror_mode": {
    "name": "ipython",
    "version": 2
   },
   "file_extension": ".py",
   "mimetype": "text/x-python",
   "name": "python",
   "nbconvert_exporter": "python",
   "pygments_lexer": "ipython2",
   "version": "2.7.6"
  }
 },
 "nbformat": 4,
 "nbformat_minor": 5
}

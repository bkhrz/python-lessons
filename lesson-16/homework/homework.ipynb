{
 "cells": [
  {
   "cell_type": "code",
   "id": "initial_id",
   "metadata": {
    "collapsed": true,
    "ExecuteTime": {
     "end_time": "2025-03-25T12:42:43.517830Z",
     "start_time": "2025-03-25T12:42:43.498439Z"
    }
   },
   "source": [
    "import sqlite3\n",
    "import pandas as pd\n",
    "import numpy as np"
   ],
   "outputs": [],
   "execution_count": null
  },
  {
   "metadata": {},
   "cell_type": "markdown",
   "source": "Part 1",
   "id": "a7a2861ed5687c5c"
  },
  {
   "metadata": {},
   "cell_type": "code",
   "outputs": [],
   "execution_count": null,
   "source": [
    "with sqlite3.connect('chinook.db') as connection:\n",
    "    df_customers = pd.read_sql(\n",
    "        \"SELECT * FROM customers\",\n",
    "        con = connection\n",
    "    )\n",
    "    df_customers.head(10)"
   ],
   "id": "5a9db1c6a60acaed"
  },
  {
   "metadata": {},
   "cell_type": "code",
   "outputs": [],
   "execution_count": null,
   "source": [
    "df_iris = pd.read_json('iris.json')\n",
    "df_iris.shape()\n",
    "df_iris.columns()"
   ],
   "id": "3c711f58d8ec97c7"
  },
  {
   "metadata": {},
   "cell_type": "code",
   "outputs": [],
   "execution_count": null,
   "source": [
    "df_titanic = pd.read_excel('titanic.xlsx')\n",
    "df_titanic.head()"
   ],
   "id": "33e0c8c9426c1920"
  },
  {
   "metadata": {},
   "cell_type": "code",
   "outputs": [],
   "execution_count": null,
   "source": [
    "data = pd.read_parquet('flights')\n",
    "data.info()"
   ],
   "id": "af9df581e9b2d76e"
  },
  {
   "metadata": {},
   "cell_type": "code",
   "outputs": [],
   "execution_count": null,
   "source": [
    "datas = pd.read_csv('movie.csv')\n",
    "datas.sample(10)"
   ],
   "id": "f47861679c7217fc"
  },
  {
   "metadata": {},
   "cell_type": "markdown",
   "source": "Part 2",
   "id": "594a2a7fc8d00679"
  },
  {
   "metadata": {},
   "cell_type": "code",
   "outputs": [],
   "execution_count": null,
   "source": [
    "df_iris = pd.read_json('iris.csv')\n",
    "df_iris.columns= [column.lower() for column in df_iris.coumns]\n",
    "df_iris[['sepal_length', 'sepal_width']]"
   ],
   "id": "a59aa0df4357b082"
  },
  {
   "metadata": {},
   "cell_type": "code",
   "outputs": [],
   "execution_count": null,
   "source": [
    "df_titanic = pd.read_excel('titanic.xlsx')\n",
    "print(df_titanic[df_titanic[\"Age\"]>30])\n",
    "print(df_titanic['Sex'].value_counts())"
   ],
   "id": "c611a9d6e388403b"
  },
  {
   "metadata": {},
   "cell_type": "code",
   "outputs": [],
   "execution_count": null,
   "source": [
    "data = pd.read_parquet('flights')\n",
    "columns = data[['origin', 'dest', 'carrier']]\n",
    "columns['dest'].nunique()"
   ],
   "id": "e15262f8368a29a1"
  },
  {
   "metadata": {},
   "cell_type": "code",
   "outputs": [],
   "execution_count": null,
   "source": [
    "movies = pd.read_csv('movies')\n",
    "filtered_movies = movies[movies['duration']>120]\n",
    "print(filtered_movies.sort_values(by = 'director_facebook_likes', ascending = False))"
   ],
   "id": "bf0d52bb567586d3"
  },
  {
   "metadata": {},
   "cell_type": "markdown",
   "source": "Part 3",
   "id": "45a1ce1222d81fd5"
  },
  {
   "metadata": {},
   "cell_type": "code",
   "outputs": [],
   "execution_count": null,
   "source": [
    "iris_nums = df_iris.select_dtypes('number')\n",
    "\n",
    "iris_nums.mean()\n",
    "iris_nums.median()\n",
    "iris_nums.std()\n"
   ],
   "id": "30c5f62c67924e4f"
  },
  {
   "metadata": {},
   "cell_type": "code",
   "outputs": [],
   "execution_count": null,
   "source": [
    "min_age = df_titanic['Age'].min()\n",
    "max_age = df_titanic['Age'].max()\n",
    "sum_age = df_titanic['Age'].sum()"
   ],
   "id": "79ab50c4daaf6e01"
  },
  {
   "metadata": {},
   "cell_type": "code",
   "outputs": [],
   "execution_count": null,
   "source": [
    "movies = pd.read_csv('movies')\n",
    "top_director = movies.groupby('director_name')['director_facebook_likes'].sum().idmax()\n",
    "top_likes = movies.groupby(\"director_name\")[\"director_facebook_likes\"].sum().max()\n",
    "longest_movies = movies.nlargest(5, 'duration')"
   ],
   "id": "298c6987d7c92662"
  },
  {
   "metadata": {},
   "cell_type": "code",
   "outputs": [],
   "execution_count": null,
   "source": [
    "flights_df = pd.read_parquet('flights')\n",
    "\n",
    "num_cols = flights_df.select_dtypes(include=[np.number]).columns\n",
    "for col in num_cols:\n",
    "    if flights_df[col].isnull().any():\n",
    "        flights_df[col].fillna(flights_df[col].mean(), inplace=True)"
   ],
   "id": "c2f2e1dd452d39ff"
  }
 ],
 "metadata": {
  "kernelspec": {
   "display_name": "Python 3",
   "language": "python",
   "name": "python3"
  },
  "language_info": {
   "codemirror_mode": {
    "name": "ipython",
    "version": 2
   },
   "file_extension": ".py",
   "mimetype": "text/x-python",
   "name": "python",
   "nbconvert_exporter": "python",
   "pygments_lexer": "ipython2",
   "version": "2.7.6"
  }
 },
 "nbformat": 4,
 "nbformat_minor": 5
}
